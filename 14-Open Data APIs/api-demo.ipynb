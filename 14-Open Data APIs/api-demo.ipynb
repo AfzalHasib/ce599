{
 "cells": [
  {
   "cell_type": "markdown",
   "metadata": {},
   "source": [
    "# Working with Data APIs\n",
    "\n",
    "**Adapted from: Sam Maurer // maurer@berkeley.edu // Oct. 3, 2016**\n",
    "\n",
    "This notebook provides a demonstration of data-access APIs that operate over the web. See README.md for setup instructions.\n",
    "\n",
    "In Part 1, we'll load and parse results from an API feed of earthquake data.  \n",
    "In Part 2, we'll add query parameters to the workflow, using the Google Maps Geolocation API as an example.  \n",
    "In Part 3, we'll use an authenticated API to query public Twitter posts. "
   ]
  },
  {
   "cell_type": "markdown",
   "metadata": {},
   "source": [
    "# Part 1: Reading from an automated data feed\n",
    "\n",
    "### USGS real-time earthquake feeds\n",
    "\n",
    "This is an API for near-real-time data about earthquakes. Data is provided in JSON format over the web. No authentication is needed, and there's no way to customize the output. Instead, the API has a separate endpoint for each permutation of the data that users might want.\n",
    "\n",
    "**API documentation:**  \n",
    "http://earthquake.usgs.gov/earthquakes/feed/v1.0/geojson.php\n",
    "\n",
    "**Sample API endpoint, for magnitude 4.5+ earthquakes in past day:**  \n",
    "http://earthquake.usgs.gov/earthquakes/feed/v1.0/summary/4.5_day.geojson  \n"
   ]
  },
  {
   "cell_type": "code",
   "execution_count": 1,
   "metadata": {},
   "outputs": [],
   "source": [
    "%matplotlib inline\n",
    "\n",
    "import pandas as pd\n",
    "\n",
    "import json    # library for working with JSON-formatted text strings\n",
    "import requests  # library for accessing content from web URLs\n",
    "\n",
    "import pprint  # library for making Python data structures readable\n",
    "pp = pprint.PrettyPrinter()"
   ]
  },
  {
   "cell_type": "code",
   "execution_count": 2,
   "metadata": {},
   "outputs": [
    {
     "name": "stdout",
     "output_type": "stream",
     "text": [
      "<class 'str'>\n"
     ]
    }
   ],
   "source": [
    "# download data on magnitude 2.5+ quakes from the past week\n",
    "\n",
    "endpoint_url = \"http://earthquake.usgs.gov/earthquakes/feed/v1.0/summary/2.5_week.geojson\"\n",
    "response = requests.get(endpoint_url)\n",
    "results = response.text\n",
    "\n",
    "# what is the data type of the results?\n",
    "print(type(results))"
   ]
  },
  {
   "cell_type": "code",
   "execution_count": 3,
   "metadata": {},
   "outputs": [
    {
     "name": "stdout",
     "output_type": "stream",
     "text": [
      "{\"type\":\"FeatureCollection\",\"metadata\":{\"generated\":1552072389000,\"url\":\"https://earthquake.usgs.gov/earthquakes/feed/v1.0/summary/2.5_week.geojson\",\"title\":\"USGS Magnitude 2.5+ Earthquakes, Past Week\",\"status\":200,\"api\":\"1.7.0\",\"count\":296},\"features\":[{\"type\":\"Feature\",\"properties\":{\"mag\":3,\"place\":\"67km S of Kobuk, Alaska\",\"time\":1552071509140,\"updated\":1552072221905,\"tz\":-540,\"url\":\"https://earthquake.usgs.gov/earthquakes/eventpage/ak0193342jvb\",\"detail\":\"https://earthquake.usgs.gov/earthqua\n"
     ]
    }
   ],
   "source": [
    "# print the first 500 characters to see a sample of the data\n",
    "\n",
    "print(results[:500])"
   ]
  },
  {
   "cell_type": "code",
   "execution_count": 4,
   "metadata": {},
   "outputs": [
    {
     "name": "stdout",
     "output_type": "stream",
     "text": [
      "<class 'dict'>\n"
     ]
    }
   ],
   "source": [
    "# it looks like the results are a string with JSON-formatted data inside\n",
    "\n",
    "# parse the string into a Python dictionary\n",
    "data = json.loads(results)\n",
    "\n",
    "print(type(data))"
   ]
  },
  {
   "cell_type": "code",
   "execution_count": 5,
   "metadata": {},
   "outputs": [
    {
     "name": "stdout",
     "output_type": "stream",
     "text": [
      "{'type': 'Feature', 'properties': {'mag': 3, 'place': '67km S of Kobuk, Alaska', 'time': 1552071509140, 'updated': 1552072221905, 'tz': -540, 'url': 'https://earthquake.usgs.gov/earthquakes/eventpage/ak0193342jvb', 'detail': 'https://earthquake.usgs.gov/earthquakes/feed/v1.0/detail/ak0193342jvb.geojson', 'felt': None, 'cdi': None, 'mmi': None, 'alert': None, 'status': 'automatic', 'tsunami': 0, 'sig': 138, 'net': 'ak', 'code': '0193342jvb', 'ids': ',ak0193342jvb,', 'sources': ',ak,', 'types': ',geoserve,origin,', 'nst': None, 'dmin': None, 'rms': 0.83, 'gap': None, 'magType': 'ml', 'type': 'earthquake', 'title': 'M 3.0 - 67km S of Kobuk, Alaska'}, 'geometry': {'type': 'Point', 'coordinates': [-156.9264, 66.3022, 0]}, 'id': 'ak0193342jvb'}\n"
     ]
    }
   ],
   "source": [
    "# print the most recent quake\n",
    "\n",
    "quakes = data['features']\n",
    "print(quakes[0])"
   ]
  },
  {
   "cell_type": "code",
   "execution_count": 6,
   "metadata": {},
   "outputs": [
    {
     "name": "stdout",
     "output_type": "stream",
     "text": [
      "{'coordinates': [-156.9264, 66.3022, 0], 'type': 'Point'}\n",
      "{'alert': None,\n",
      " 'cdi': None,\n",
      " 'code': '0193342jvb',\n",
      " 'detail': 'https://earthquake.usgs.gov/earthquakes/feed/v1.0/detail/ak0193342jvb.geojson',\n",
      " 'dmin': None,\n",
      " 'felt': None,\n",
      " 'gap': None,\n",
      " 'ids': ',ak0193342jvb,',\n",
      " 'mag': 3,\n",
      " 'magType': 'ml',\n",
      " 'mmi': None,\n",
      " 'net': 'ak',\n",
      " 'nst': None,\n",
      " 'place': '67km S of Kobuk, Alaska',\n",
      " 'rms': 0.83,\n",
      " 'sig': 138,\n",
      " 'sources': ',ak,',\n",
      " 'status': 'automatic',\n",
      " 'time': 1552071509140,\n",
      " 'title': 'M 3.0 - 67km S of Kobuk, Alaska',\n",
      " 'tsunami': 0,\n",
      " 'type': 'earthquake',\n",
      " 'types': ',geoserve,origin,',\n",
      " 'tz': -540,\n",
      " 'updated': 1552072221905,\n",
      " 'url': 'https://earthquake.usgs.gov/earthquakes/eventpage/ak0193342jvb'}\n"
     ]
    }
   ],
   "source": [
    "# print it more clearly\n",
    "\n",
    "pp.pprint(quakes[0]['geometry'])\n",
    "pp.pprint(quakes[0]['properties'])"
   ]
  },
  {
   "cell_type": "code",
   "execution_count": 7,
   "metadata": {},
   "outputs": [
    {
     "name": "stdout",
     "output_type": "stream",
     "text": [
      "M 3.0 - 67km S of Kobuk, Alaska\n",
      "M 2.8 - 77km SSW of Kobuk, Alaska\n",
      "M 2.6 - 66km SSW of Redoubt Volcano, Alaska\n",
      "M 2.8 - 71km WSW of Alberto Oviedo Mota, B.C., MX\n",
      "M 3.7 - 127km S of Little Sitkin Island, Alaska\n",
      "M 4.2 - 8km E of Kiska Volcano, Alaska\n",
      "M 2.6 - 5km W of Mayaguez, Puerto Rico\n",
      "M 6.0 - 40km N of Santa Monica, Philippines\n",
      "M 5.0 - 296km ESE of L'Esperance Rock, New Zealand\n",
      "M 2.7 - 97km S of Nikolski, Alaska\n",
      "M 5.0 - 110km SE of L'Esperance Rock, New Zealand\n",
      "M 4.1 - 27km SW of La Gomera, Guatemala\n",
      "M 4.5 - 54km N of Sangiang, Indonesia\n",
      "M 2.8 - 106km S of Nikolski, Alaska\n",
      "M 2.9 - 62km NNE of Punta Cana, Dominican Republic\n",
      "M 3.3 - 66km S of Kobuk, Alaska\n",
      "M 2.8 - 67km ENE of Punta Cana, Dominican Republic\n",
      "M 3.0 - 60km NE of Punta Cana, Dominican Republic\n",
      "M 5.2 - 160km SSW of Abepura, Indonesia\n",
      "M 3.4 - 143km NNE of Vieques, Puerto Rico\n",
      "M 3.4 - 153km NNE of Vieques, Puerto Rico\n",
      "M 3.1 - 68km S of Kobuk, Alaska\n",
      "M 2.7 - 75km N of Arecibo, Puerto Rico\n",
      "M 4.4 - 159km NE of Yelizovo, Russia\n",
      "M 5.4 - 43km SE of Taitung City, Taiwan\n",
      "M 4.3 - 46km SW of La Gomera, Guatemala\n",
      "M 2.6 - 16km SSE of Anaktuvuk Pass, Alaska\n",
      "M 3.1 - 31km N of Charlotte Amalie, U.S. Virgin Islands\n",
      "M 3.3 - 50km SE of Boca de Yuma, Dominican Republic\n",
      "M 2.7 - 8km WNW of Knik-Fairview, Alaska\n",
      "M 3.3 - 72km SSW of Kobuk, Alaska\n",
      "M 4.6 - 42km WNW of Abepura, Indonesia\n",
      "M 4.8 - 88km E of King Salmon, Alaska\n",
      "M 2.8 - 237km SE of Kodiak, Alaska\n",
      "M 3.5 - 97km N of Road Town, British Virgin Islands\n",
      "M 3.0 - 50km NNE of Punta Cana, Dominican Republic\n",
      "M 4.9 - Kuril Islands\n",
      "M 4.4 - 15km ESE of Dedang, China\n",
      "M 2.5 - 69km SSW of Kaktovik, Alaska\n",
      "M 2.9 - 68km SSW of Kobuk, Alaska\n",
      "M 4.7 - 90km W of False Pass, Alaska\n",
      "M 5.7 - 134km SSE of L'Esperance Rock, New Zealand\n",
      "M 3.3 - 74km S of Kobuk, Alaska\n",
      "M 3.0 - 23km SSW of Beaver, Utah\n",
      "M 5.7 - 139km WNW of Coquimbo, Chile\n",
      "M 5.5 - 217km SE of L'Esperance Rock, New Zealand\n",
      "M 3.2 - 31km NNE of Road Town, British Virgin Islands\n",
      "M 2.8 - 4km E of Blanchard, Oklahoma\n",
      "M 2.7 - 33km SW of Hayfork, CA\n",
      "M 4.9 - 118km SE of L'Esperance Rock, New Zealand\n",
      "M 2.7 - 10km WSW of Knik-Fairview, Alaska\n",
      "M 4.8 - Izu Islands, Japan region\n",
      "M 2.5 - 12km NNE of Ocotillo Wells, CA\n",
      "M 4.8 - 96km SW of `Ohonua, Tonga\n",
      "M 4.7 - 12km S of Roghun, Tajikistan\n",
      "M 5.1 - 91km SW of Atka, Alaska\n",
      "M 4.8 - 6km E of Fochville, South Africa\n",
      "M 2.8 - 68km S of Kobuk, Alaska\n",
      "M 4.6 - 37km SSE of Sindangsari, Indonesia\n",
      "M 3.2 - 64km SSW of Kobuk, Alaska\n",
      "M 2.6 - 6km N of Moreno Valley, CA\n",
      "M 3.3 - 12km S of Big Lake, Alaska\n",
      "M 4.4 - 12km N of Kashmor, Pakistan\n",
      "M 4.4 - 16km S of Coquimbo, Chile\n",
      "M 3.4 - 46km NE of Road Town, British Virgin Islands\n",
      "M 5.0 - 71km SSE of Putre, Chile\n",
      "M 2.7 - 76km S of Kobuk, Alaska\n",
      "M 4.4 - 22km SSW of Anelo, Argentina\n",
      "M 3.0 - 144km N of Arecibo, Puerto Rico\n",
      "M 2.7 - 7km ESE of Century, Florida\n",
      "M 5.2 - 37km NNE of Chongoyape, Peru\n",
      "M 2.7 - 65km NNW of San Antonio, Puerto Rico\n",
      "M 4.9 - Northern Mid-Atlantic Ridge\n",
      "M 4.9 - 132km SSW of Hengchun, Taiwan\n",
      "M 2.9 - 105km NNW of San Antonio, Puerto Rico\n",
      "M 2.6 - 44km N of Hatillo, Puerto Rico\n",
      "M 2.9 - 17km WSW of Miramichi, Canada\n",
      "M 5.0 - 109km SE of L'Esperance Rock, New Zealand\n",
      "M 2.9 - 76km SSW of Kobuk, Alaska\n",
      "M 3.1 - 36km ENE of Punta Cana, Dominican Republic\n",
      "M 2.7 - 7km NNW of Meadow Lakes, Alaska\n",
      "M 3.0 - 18km SSE of Esperanza, Puerto Rico\n",
      "M 5.0 - 155km WNW of Tobelo, Indonesia\n",
      "M 2.9 - 68km SSW of Kobuk, Alaska\n",
      "M 3.0 - 71km SSW of Kobuk, Alaska\n",
      "M 2.5 - 68km SSW of Kobuk, Alaska\n",
      "M 2.7 - 73km SSW of Kobuk, Alaska\n",
      "M 3.1 - 78km SSW of Kobuk, Alaska\n",
      "M 2.6 - 74km SSW of Kobuk, Alaska\n",
      "M 3.3 - 64km SSW of Kobuk, Alaska\n",
      "M 5.1 - 139km SE of L'Esperance Rock, New Zealand\n",
      "M 4.5 - 159km SW of Al Qunfidhah, Saudi Arabia\n",
      "M 5.2 - 68km SSW of Kobuk, Alaska\n",
      "M 4.7 - 165km SW of Al Qunfidhah, Saudi Arabia\n",
      "M 2.5 - 7km NE of Harper, Kansas\n",
      "M 5.7 - 139km SE of L'Esperance Rock, New Zealand\n",
      "M 5.0 - 161km SSW of Al Qunfidhah, Saudi Arabia\n",
      "M 5.0 - Volcano Islands, Japan region\n",
      "M 4.9 - 40km S of Ofunato, Japan\n",
      "M 2.8 - 229km SE of Kodiak, Alaska\n",
      "M 5.6 - 15km NNE of Ambunti, Papua New Guinea\n",
      "M 4.0 - 29km SSE of Ofunato, Japan\n",
      "M 2.6 - 16km NNE of Coalgate, Oklahoma\n",
      "M 2.7 - 33km WNW of Kobuk, Alaska\n",
      "M 2.5 - 17km NNW of Anchorage, Alaska\n",
      "M 4.7 - 99km W of Nikol'skoye, Russia\n",
      "M 2.9 - 290km ESE of Kodiak, Alaska\n",
      "M 5.0 - 105km ESE of L'Esperance Rock, New Zealand\n",
      "M 6.4 - 116km SE of L'Esperance Rock, New Zealand\n",
      "M 3.0 - 2km NW of Vega Baja, Puerto Rico\n",
      "M 5.1 - 230km NNW of Tobelo, Indonesia\n",
      "M 4.3 - 38km ESE of Savannah Bight, Honduras\n",
      "M 2.7 - 17km SSW of Big Lake, Alaska\n",
      "M 4.1 - 122km SW of Mapastepec, Mexico\n",
      "M 4.3 - 119km SW of Kiska Volcano, Alaska\n",
      "M 4.7 - 134km WNW of Tobelo, Indonesia\n",
      "M 2.5 - 48km N of Valdez, Alaska\n",
      "M 2.6 - 63km NNE of Isabela, Puerto Rico\n",
      "M 5.6 - West Chile Rise\n",
      "M 2.8 - 27km WSW of Anchor Point, Alaska\n",
      "M 3.0 - 27km NNE of Punta Cana, Dominican Republic\n",
      "M 3.2 - 135km NNE of Vieques, Puerto Rico\n",
      "M 3.4 - 174km NNE of Road Town, British Virgin Islands\n",
      "M 4.7 - 61km SW of Ile Hunter, New Caledonia\n",
      "M 5.3 - Bouvet Island region\n",
      "M 2.5 - 26km SSW of Esperanza, Puerto Rico\n",
      "M 3.3 - 55km W of Anchor Point, Alaska\n",
      "M 4.5 - 1km NE of Barranquilla, Colombia\n",
      "M 3.3 - 8km E of La Romana, Dominican Republic\n",
      "M 3.3 - 29km NNE of Sutton-Alpine, Alaska\n",
      "M 2.9 - 76km NNW of San Antonio, Puerto Rico\n",
      "M 5.7 - 69km ENE of Hinatuan, Philippines\n",
      "M 4.4 - 10km NNW of Tunapuna, Trinidad and Tobago\n",
      "M 3.0 - 143km SE of Akutan, Alaska\n",
      "M 3.0 - 14km NE of Miches, Dominican Republic\n",
      "M 4.8 - 82km N of Oxapampa, Peru\n",
      "M 2.7 - 77km SW of Kaktovik, Alaska\n",
      "M 4.9 - 63km SW of Puerto Madero, Mexico\n",
      "M 3.4 - 7km NE of Maynardville, Tennessee\n",
      "M 2.9 - 11km SE of Punta Cana, Dominican Republic\n",
      "M 4.8 - 94km ENE of Amahai, Indonesia\n",
      "M 3.2 - 48km SE of Boca de Yuma, Dominican Republic\n",
      "M 4.5 - 85km E of Ndoi Island, Fiji\n",
      "M 4.6 - 55km SW of Puerto Madero, Mexico\n",
      "M 2.7 - 64km N of Tierras Nuevas Poniente, Puerto Rico\n",
      "M 4.2 - 39km SW of Puerto Madero, Mexico\n",
      "M 4.1 - 3km NNW of Grebocice, Poland\n",
      "M 4.4 - 43km WNW of Coquimbo, Chile\n",
      "M 5.4 - 76km WSW of Puerto Madero, Mexico\n",
      "M 4.4 - 42km W of `Alaqahdari-ye Kiran wa Munjan, Afghanistan\n",
      "M 3.4 - 70km S of Kobuk, Alaska\n",
      "M 4.2 - 46km WSW of Tual, Indonesia\n",
      "M 3.5 - 258km SE of Kodiak, Alaska\n",
      "M 4.8 - 64km SW of Puerto Madero, Mexico\n",
      "M 5.1 - 60km SW of Buldir Island, Alaska\n",
      "M 4.8 - 62km SW of Puerto Madero, Mexico\n",
      "M 2.9 - 8km WSW of Ely, Nevada\n",
      "M 2.8 - 72km SW of Redoubt Volcano, Alaska\n",
      "M 2.6 - 116km W of Petrolia, CA\n",
      "M 4.0 - Izu Islands, Japan region\n",
      "M 2.5 - 1km S of Bluffdale, Utah\n",
      "M 3.8 - 121km SSE of Yunaska Island, Alaska\n",
      "M 2.5 - 52km N of Culebra, Puerto Rico\n",
      "M 4.6 - 137km WSW of Banda Aceh, Indonesia\n",
      "M 2.7 - 54km SE of Punta Cana, Dominican Republic\n",
      "M 2.9 - 127km NNE of Vieques, Puerto Rico\n",
      "M 2.9 - 65km SSW of Kobuk, Alaska\n",
      "M 2.6 - 89km S of Kodiak Station, Alaska\n",
      "M 2.8 - 91km SSW of Kaktovik, Alaska\n",
      "M 4.5 - 150km NW of Olonkinbyen, Svalbard and Jan Mayen\n",
      "M 2.6 - 1km NW of Manhattan, Montana\n",
      "M 2.8 - 71km WSW of Alberto Oviedo Mota, B.C., MX\n",
      "M 4.4 - 57km ENE of Malili, Indonesia\n",
      "M 4.5 - 57km NNE of Yanqi, China\n",
      "M 2.9 - 67km SSW of Kobuk, Alaska\n",
      "M 2.9 - 7km N of Cuero, Texas\n",
      "M 2.5 - 14km N of Anchorage, Alaska\n",
      "M 4.8 - 44km ENE of Malili, Indonesia\n",
      "M 4.5 - 57km N of Dove Creek, Colorado\n",
      "M 3.3 - 64km ENE of Old Faithful Geyser, Wyoming\n",
      "M 4.4 - 29km NE of Madang, Papua New Guinea\n",
      "M 4.2 - 65km SW of Santiago Pinotepa Nacional, Mexico\n",
      "M 4.4 - 28km ENE of Madang, Papua New Guinea\n",
      "M 4.6 - 24km WNW of Ust'-Barguzin, Russia\n",
      "M 3.8 - 9km NW of Red Deer, Canada\n",
      "M 4.8 - 46km E of Madang, Papua New Guinea\n",
      "M 4.5 - 40km WNW of Pisco, Peru\n",
      "M 5.9 - 43km E of Madang, Papua New Guinea\n",
      "M 2.7 - 41km SSE of Pecos, Texas\n",
      "M 2.6 - 13km NNW of Alderson, West Virginia\n",
      "M 4.4 - 71km SSW of Sand Point, Alaska\n",
      "M 4.8 - 69km NNW of Visokoi Island, South Georgia and the South Sandwich Islands\n",
      "M 4.0 - 28km N of Melipilla, Chile\n",
      "M 2.7 - 67km ENE of Road Town, British Virgin Islands\n",
      "M 2.5 - 26km E of Honaunau-Napoopoo, Hawaii\n",
      "M 3.4 - 110km N of Road Town, British Virgin Islands\n",
      "M 3.4 - 129km N of Vieques, Puerto Rico\n",
      "M 3.0 - 80km N of Charlotte Amalie, U.S. Virgin Islands\n",
      "M 4.6 - 142km ENE of Neiafu, Tonga\n",
      "M 2.9 - 58km NNW of Road Town, British Virgin Islands\n",
      "M 2.8 - 68km WSW of Tok, Alaska\n",
      "M 4.6 - 49km NE of Palue, Indonesia\n",
      "M 2.5 - 6km ENE of Salina, Kansas\n",
      "M 2.8 - 90km NE of Tanana, Alaska\n",
      "M 2.6 - 100km NE of Circle, Alaska\n",
      "M 3.4 - 64km NNW of Road Town, British Virgin Islands\n",
      "M 2.9 - 38km ESE of Punta Cana, Dominican Republic\n",
      "M 2.6 - 11km SE of Leilani Estates, Hawaii\n",
      "M 4.4 - 60km NNE of Palue, Indonesia\n",
      "M 4.6 - 3km S of Asuncion Ixtaltepec, Mexico\n",
      "M 4.2 - 124km SE of Pondaguitan, Philippines\n",
      "M 3.0 - 14km SW of Enterprise, Utah\n",
      "M 2.5 - 1km SSW of Bayamon, Puerto Rico\n",
      "M 2.8 - 86km W of Petrolia, CA\n",
      "M 4.9 - 34km WNW of Zirandaro, Mexico\n",
      "M 3.1 - 6km WSW of Lower Lake, CA\n",
      "M 4.2 - 275km SE of Kodiak, Alaska\n",
      "M 2.9 - 68km SSW of Kobuk, Alaska\n",
      "M 4.9 - 55km W of Kasiguncu, Indonesia\n",
      "M 5.4 - 127km NE of L'Esperance Rock, New Zealand\n",
      "M 2.8 - 292km SE of Kodiak, Alaska\n",
      "M 2.8 - 41km NNW of Currant, Nevada\n",
      "M 3.4 - 299km SE of Kodiak, Alaska\n",
      "M 2.5 - 29km N of San Antonio, Puerto Rico\n",
      "M 2.7 - 43km NNW of Currant, Nevada\n",
      "M 4.3 - 32km SSE of Pucallpa, Peru\n",
      "M 2.6 - 79km NE of Miches, Dominican Republic\n",
      "M 4.5 - 25km NNW of Gandava, Pakistan\n",
      "M 3.8 - 8km WSW of Marigot, Saint Martin\n",
      "M 2.5 - 7km NE of Georgetown, Ohio\n",
      "M 2.7 - 4km NE of Waikoloa, Hawaii\n",
      "M 2.8 - 32km SSW of Butte, Alaska\n",
      "M 4.5 - 24km E of Pamandzi, Mayotte\n",
      "M 2.9 - 12km SSE of Volcano, Hawaii\n",
      "M 4.3 - 54km SSW of Masachapa, Nicaragua\n",
      "M 4.2 - 52km NNW of Atka, Alaska\n",
      "M 4.4 - 172km SSE of Sinabang, Indonesia\n",
      "M 2.5 - 51km SSE of King Salmon, Alaska\n",
      "M 2.7 - 41km WNW of Rincon, Puerto Rico\n",
      "M 3.5 - 28km E of Karibib, Namibia\n",
      "M 3.2 - 84km NNW of Charlotte Amalie, U.S. Virgin Islands\n",
      "M 4.6 - 99km N of Isangel, Vanuatu\n",
      "M 2.6 - 75km S of Kobuk, Alaska\n",
      "M 4.5 - 131km NNE of Tobelo, Indonesia\n",
      "M 2.9 - 10km NNW of Cholame, CA\n",
      "M 4.5 - 27km WNW of Itbayat, Philippines\n",
      "M 5.5 - 94km W of San Antonio, Chile\n",
      "M 2.5 - 3km W of Manhattan, Montana\n",
      "M 5.6 - 21km NW of Davila, Philippines\n",
      "M 2.5 - 149km NE of Nome, Alaska\n",
      "M 4.9 - 225km NNW of Farallon de Pajaros, Northern Mariana Islands\n",
      "M 3.0 - 124km S of Boca de Yuma, Dominican Republic\n",
      "M 5.3 - Izu Islands, Japan region\n",
      "M 2.7 - 63km SSW of Kaktovik, Alaska\n",
      "M 2.6 - 20km NNW of Brenas, Puerto Rico\n",
      "M 4.1 - 119km SSW of George Town, Cayman Islands\n",
      "M 4.8 - 69km NNW of Alotau, Papua New Guinea\n",
      "M 4.3 - 100km SE of San Felipe, Mexico\n",
      "M 2.8 - 134km ESE of Akutan, Alaska\n",
      "M 2.8 - 14km SW of Cherokee, Oklahoma\n",
      "M 3.1 - 76km NNW of San Antonio, Puerto Rico\n",
      "M 2.8 - 43km WNW of Petrolia, CA\n",
      "M 4.3 - 50km NNE of Kerman, Iran\n",
      "M 2.9 - 51km N of Isabela, Puerto Rico\n",
      "M 2.7 - 20km W of Petrolia, CA\n",
      "M 3.1 - 169km S of False Pass, Alaska\n",
      "M 2.8 - 13km SE of Road Town, British Virgin Islands\n",
      "M 4.6 - 183km NE of Kuril'sk, Russia\n",
      "M 4.5 - 85km W of San Antonio, Chile\n",
      "M 2.9 - 114km NNW of Arctic Village, Alaska\n",
      "M 4.9 - Northern Mid-Atlantic Ridge\n",
      "M 3.8 - 21km W of Petrolia, CA\n",
      "M 2.5 - 50km N of San Juan, Puerto Rico\n",
      "M 3.4 - 78km N of Charlotte Amalie, U.S. Virgin Islands\n",
      "M 6.0 - 191km SE of Nemuro, Japan\n",
      "M 2.6 - 16km WSW of Enterprise, Utah\n",
      "M 5.2 - 80km SSE of Panguna, Papua New Guinea\n",
      "M 2.6 - 8km SSE of Ridgely, Tennessee\n",
      "M 2.9 - 116km N of San Juan, Puerto Rico\n",
      "M 3.9 - 19km WSW of Valparaiso, Chile\n",
      "M 2.5 - 72km SSW of Kaktovik, Alaska\n",
      "M 3.2 - 114km ENE of Chernabura Island, Alaska\n",
      "M 4.5 - Owen Fracture Zone region\n",
      "M 2.8 - 246km SE of Kodiak, Alaska\n",
      "M 3.1 - 123km NNW of Arctic Village, Alaska\n",
      "M 4.8 - Izu Islands, Japan region\n",
      "M 2.8 - 76km N of San Juan, Puerto Rico\n",
      "M 4.6 - 114km N of Lanos, Indonesia\n",
      "M 4.8 - South of the Fiji Islands\n",
      "M 5.2 - 45km W of Ovalle, Chile\n",
      "M 2.5 - 12km S of Tres Pinos, CA\n",
      "M 3.2 - 262km SE of Kodiak, Alaska\n",
      "M 3.7 - 274km SSE of Kodiak, Alaska\n",
      "M 4.4 - 37km ESE of Hitachi, Japan\n",
      "M 4.6 - 2km WNW of Comillas Norte, Philippines\n",
      "M 4.2 - 214km NW of Attu Station, Alaska\n"
     ]
    }
   ],
   "source": [
    "# pull out the title from each earthquake listing\n",
    "\n",
    "for q in quakes:\n",
    "    print(q['properties']['title'])"
   ]
  },
  {
   "cell_type": "code",
   "execution_count": 8,
   "metadata": {},
   "outputs": [
    {
     "name": "stdout",
     "output_type": "stream",
     "text": [
      "296\n"
     ]
    }
   ],
   "source": [
    "# pull out magnitudes and depths into a Pandas dataframe, using\n",
    "# a more compact Python syntax for iterating through lists\n",
    "\n",
    "d = {'magnitude': [q['properties']['mag'] for q in quakes],\n",
    "     'depth': [q['geometry']['coordinates'][2] for q in quakes]}\n",
    "\n",
    "df = pd.DataFrame.from_dict(d)\n",
    "\n",
    "# how many earthquakes were loaded into the dataframe?\n",
    "print(len(df))"
   ]
  },
  {
   "cell_type": "code",
   "execution_count": 9,
   "metadata": {},
   "outputs": [
    {
     "name": "stdout",
     "output_type": "stream",
     "text": [
      "   magnitude   depth\n",
      "0       3.00    0.00\n",
      "1       2.80    0.90\n",
      "2       2.60  120.00\n",
      "3       2.75    9.79\n",
      "4       3.70   26.60\n"
     ]
    }
   ],
   "source": [
    "# print the first few lines of data\n",
    "\n",
    "print(df.head())"
   ]
  },
  {
   "cell_type": "code",
   "execution_count": 10,
   "metadata": {},
   "outputs": [
    {
     "name": "stdout",
     "output_type": "stream",
     "text": [
      "        magnitude       depth\n",
      "count  296.000000  296.000000\n",
      "mean     3.706216   41.503412\n",
      "std      1.000425   68.569657\n",
      "min      2.450000   -0.450000\n",
      "25%      2.800000   10.000000\n",
      "50%      3.350000   14.565000\n",
      "75%      4.600000   48.840000\n",
      "max      6.400000  558.630000\n"
     ]
    }
   ],
   "source": [
    "# print some descriptive statistics\n",
    "\n",
    "print(df.describe())"
   ]
  },
  {
   "cell_type": "code",
   "execution_count": 11,
   "metadata": {},
   "outputs": [
    {
     "data": {
      "text/plain": [
       "<matplotlib.axes._subplots.AxesSubplot at 0x280a5373a20>"
      ]
     },
     "execution_count": 11,
     "metadata": {},
     "output_type": "execute_result"
    },
    {
     "data": {
      "image/png": "[encoded data removed]",
      "text/plain": [
       "<Figure size 432x288 with 1 Axes>"
      ]
     },
     "metadata": {
      "needs_background": "light"
     },
     "output_type": "display_data"
    }
   ],
   "source": [
    "# plot the depth vs. magnitude\n",
    "\n",
    "df.plot(x='magnitude', y='depth', kind='scatter')"
   ]
  },
  {
   "cell_type": "code",
   "execution_count": 12,
   "metadata": {},
   "outputs": [
    {
     "name": "stdout",
     "output_type": "stream",
     "text": [
      "file saved\n"
     ]
    }
   ],
   "source": [
    "# save the dataframe to disk\n",
    "\n",
    "df.to_csv('usgs_earthquake_data.csv')\n",
    "\n",
    "print('file saved')"
   ]
  },
  {
   "cell_type": "code",
   "execution_count": 13,
   "metadata": {},
   "outputs": [
    {
     "name": "stdout",
     "output_type": "stream",
     "text": [
      "   magnitude   depth\n",
      "0       3.00    0.00\n",
      "1       2.80    0.90\n",
      "2       2.60  120.00\n",
      "3       2.75    9.79\n",
      "4       3.70   26.60\n"
     ]
    },
    {
     "name": "stderr",
     "output_type": "stream",
     "text": [
      "C:\\ProgramData\\Anaconda3\\lib\\site-packages\\ipykernel_launcher.py:3: FutureWarning: from_csv is deprecated. Please use read_csv(...) instead. Note that some of the default arguments are different, so please refer to the documentation for from_csv when changing your function calls\n",
      "  This is separate from the ipykernel package so we can avoid doing imports until\n"
     ]
    }
   ],
   "source": [
    "# read it back later\n",
    "\n",
    "new_df = pd.DataFrame.from_csv('usgs_earthquake_data.csv')\n",
    "\n",
    "print(new_df.head())"
   ]
  },
  {
   "cell_type": "code",
   "execution_count": null,
   "metadata": {},
   "outputs": [],
   "source": []
  },
  {
   "cell_type": "code",
   "execution_count": null,
   "metadata": {},
   "outputs": [],
   "source": []
  },
  {
   "cell_type": "code",
   "execution_count": null,
   "metadata": {},
   "outputs": [],
   "source": []
  },
  {
   "cell_type": "markdown",
   "metadata": {},
   "source": [
    "# Part 2: Querying an API endpoint\n",
    "\n",
    "### Google Maps Geocoding API\n",
    "\n",
    "Google has lots of APIs that let you access its services through code instead of through GUI apps. This one from Google Maps lets you look up the latitude-longitude coordinates of street addresses.\n",
    "\n",
    "It works similarly to the earthquakes example, but with query parameters added to the URL endpoint!\n",
    "\n",
    "**API documentation:**  \n",
    "https://developers.google.com/maps/documentation/geocoding/intro\n",
    "\n",
    "**API endpoint:**  \n",
    "https://maps.googleapis.com/maps/api/geocode/json\n",
    "\n",
    "**API endpoint with query parameters:**  \n",
    "https://maps.googleapis.com/maps/api/geocode/json?address=Wurster+Hall"
   ]
  },
  {
   "cell_type": "code",
   "execution_count": 14,
   "metadata": {},
   "outputs": [],
   "source": [
    "import json    # library for working with JSON-formatted text strings\n",
    "import requests  # library for accessing content from web URLs\n",
    "\n",
    "import pprint  # library for making Python data structures readable\n",
    "pp = pprint.PrettyPrinter()"
   ]
  },
  {
   "cell_type": "code",
   "execution_count": 15,
   "metadata": {},
   "outputs": [
    {
     "name": "stdout",
     "output_type": "stream",
     "text": [
      "https://maps.googleapis.com/maps/api/geocode/json?address=young+library+uky\n"
     ]
    }
   ],
   "source": [
    "# we have to encode the search query so that it can be passed as a URL, \n",
    "# with spaces and other special characters removed\n",
    "\n",
    "endpoint = 'https://maps.googleapis.com/maps/api/geocode/json'\n",
    "\n",
    "params = {'address': 'young library uky'}\n",
    "\n",
    "url = requests.Request('GET', endpoint, params=params).prepare().url\n",
    "print(url)"
   ]
  },
  {
   "cell_type": "code",
   "execution_count": 16,
   "metadata": {},
   "outputs": [
    {
     "name": "stdout",
     "output_type": "stream",
     "text": [
      "{'error_message': 'You must use an API key to authenticate each request to Google Maps Platform APIs. For additional information, please refer to http://g.co/dev/maps-no-account', 'results': [], 'status': 'REQUEST_DENIED'}\n"
     ]
    }
   ],
   "source": [
    "# download and parse the results\n",
    "\n",
    "response = requests.get(url)\n",
    "results = response.text\n",
    "data = json.loads(results)\n",
    "\n",
    "print(data)"
   ]
  },
  {
   "cell_type": "code",
   "execution_count": 17,
   "metadata": {},
   "outputs": [
    {
     "name": "stdout",
     "output_type": "stream",
     "text": [
      "{'error_message': 'You must use an API key to authenticate each request to '\n",
      "                  'Google Maps Platform APIs. For additional information, '\n",
      "                  'please refer to http://g.co/dev/maps-no-account',\n",
      " 'results': [],\n",
      " 'status': 'REQUEST_DENIED'}\n"
     ]
    }
   ],
   "source": [
    "# print it more nicely\n",
    "\n",
    "pp.pprint(data)"
   ]
  },
  {
   "cell_type": "code",
   "execution_count": 18,
   "metadata": {},
   "outputs": [],
   "source": [
    "# pull out the lat-lon coordinates\n",
    "\n",
    "for r in data['results']:\n",
    "    coords = r['geometry']['location']\n",
    "    print(coords['lat'], coords['lng'])"
   ]
  },
  {
   "cell_type": "markdown",
   "metadata": {},
   "source": [
    "### Exercises\n",
    "\n",
    "1. Search for some other addresses or landmarks!\n",
    "2. Take a look at the [API documentation](https://developers.google.com/maps/documentation/geocoding/intro). What are the usage limits?"
   ]
  },
  {
   "cell_type": "code",
   "execution_count": 19,
   "metadata": {},
   "outputs": [
    {
     "name": "stdout",
     "output_type": "stream",
     "text": [
      "https://maps.googleapis.com/maps/api/geocode/json?address=Greg+Page+uky\n"
     ]
    }
   ],
   "source": [
    "# we have to encode the search query so that it can be passed as a URL, \n",
    "# with spaces and other special characters removed\n",
    "\n",
    "endpoint = 'https://maps.googleapis.com/maps/api/geocode/json'\n",
    "\n",
    "params = {'address': 'Greg Page uky'}\n",
    "\n",
    "url = requests.Request('GET', endpoint, params=params).prepare().url\n",
    "print(url)"
   ]
  },
  {
   "cell_type": "code",
   "execution_count": 20,
   "metadata": {},
   "outputs": [
    {
     "name": "stdout",
     "output_type": "stream",
     "text": [
      "{'error_message': 'You must use an API key to authenticate each request to '\n",
      "                  'Google Maps Platform APIs. For additional information, '\n",
      "                  'please refer to http://g.co/dev/maps-no-account',\n",
      " 'results': [],\n",
      " 'status': 'REQUEST_DENIED'}\n"
     ]
    }
   ],
   "source": [
    "# download and parse the results\n",
    "\n",
    "response = requests.get(url)\n",
    "results = response.text\n",
    "data = json.loads(results)\n",
    "pp.pprint(data)"
   ]
  },
  {
   "cell_type": "code",
   "execution_count": 21,
   "metadata": {},
   "outputs": [],
   "source": [
    "# pull out the lat-lon coordinates\n",
    "\n",
    "for r in data['results']:\n",
    "    coords = r['geometry']['location']\n",
    "    print(coords['lat'], coords['lng'])"
   ]
  },
  {
   "cell_type": "code",
   "execution_count": null,
   "metadata": {},
   "outputs": [],
   "source": [
    "#Standard Usage Limits\n",
    "#2,500 free requests per day, calculated as the sum of client-side and server-side queries. \n",
    "#50 requests per second, calculated as the sum of client-side and server-side queries. "
   ]
  },
  {
   "cell_type": "markdown",
   "metadata": {},
   "source": [
    "# Part 3: Querying an API with authentication\n",
    "\n",
    "### Twitter REST APIs\n",
    "\n",
    "Twitter's APIs also operate over the web, but they require a back-and-forth authentication process at the beginning of each connection. It's easier to have a Python library handle this than to create the query URLs ourselves.\n",
    "\n",
    "The Twitter \"REST\" APIs perform stand-alone operations: you submit a query and receive results, like in earlier examples. ([REST](https://en.wikipedia.org/wiki/Representational_state_transfer) is a particular set of guidelines that many APIs follow.) Twitter also has a \"streaming\" API that continues sending results in real time until you disconnect.\n",
    "\n",
    "**API documentation:**  \n",
    "https://dev.twitter.com/rest/public  \n",
    "https://dev.twitter.com/overview/api/tweets\n",
    "\n",
    "**Documentation for the Python helper library**:  \n",
    "https://github.com/geduldig/TwitterAPI"
   ]
  },
  {
   "cell_type": "code",
   "execution_count": null,
   "metadata": {},
   "outputs": [],
   "source": []
  },
  {
   "cell_type": "code",
   "execution_count": 35,
   "metadata": {},
   "outputs": [
    {
     "ename": "ModuleNotFoundError",
     "evalue": "No module named 'TwitterAPI'",
     "output_type": "error",
     "traceback": [
      "\u001b[1;31m---------------------------------------------------------------------------\u001b[0m",
      "\u001b[1;31mModuleNotFoundError\u001b[0m                       Traceback (most recent call last)",
      "\u001b[1;32m<ipython-input-35-07f074a66a26>\u001b[0m in \u001b[0;36m<module>\u001b[1;34m\u001b[0m\n\u001b[1;32m----> 1\u001b[1;33m \u001b[1;32mfrom\u001b[0m \u001b[0mTwitterAPI\u001b[0m \u001b[1;32mimport\u001b[0m \u001b[0mTwitterAPI\u001b[0m\u001b[1;33m\u001b[0m\u001b[1;33m\u001b[0m\u001b[0m\n\u001b[0m\u001b[0;32m      2\u001b[0m \u001b[1;33m\u001b[0m\u001b[0m\n\u001b[0;32m      3\u001b[0m \u001b[1;32mimport\u001b[0m \u001b[0mpprint\u001b[0m  \u001b[1;31m# library for making Python data structures readable\u001b[0m\u001b[1;33m\u001b[0m\u001b[1;33m\u001b[0m\u001b[0m\n\u001b[0;32m      4\u001b[0m \u001b[0mpp\u001b[0m \u001b[1;33m=\u001b[0m \u001b[0mpprint\u001b[0m\u001b[1;33m.\u001b[0m\u001b[0mPrettyPrinter\u001b[0m\u001b[1;33m(\u001b[0m\u001b[1;33m)\u001b[0m\u001b[1;33m\u001b[0m\u001b[1;33m\u001b[0m\u001b[0m\n",
      "\u001b[1;31mModuleNotFoundError\u001b[0m: No module named 'TwitterAPI'"
     ]
    }
   ],
   "source": [
    "from TwitterAPI import TwitterAPI\n",
    "\n",
    "import pprint  # library for making Python data structures readable\n",
    "pp = pprint.PrettyPrinter()"
   ]
  },
  {
   "cell_type": "code",
   "execution_count": 28,
   "metadata": {},
   "outputs": [],
   "source": [
    "# import API credentials from keys.py file in the\n",
    "# same directory as this notebook\n",
    "\n",
    "from keys import *"
   ]
  },
  {
   "cell_type": "code",
   "execution_count": 29,
   "metadata": {},
   "outputs": [
    {
     "ename": "NameError",
     "evalue": "name 'TwitterAPI' is not defined",
     "output_type": "error",
     "traceback": [
      "\u001b[1;31m---------------------------------------------------------------------------\u001b[0m",
      "\u001b[1;31mNameError\u001b[0m                                 Traceback (most recent call last)",
      "\u001b[1;32m<ipython-input-29-ac7140128630>\u001b[0m in \u001b[0;36m<module>\u001b[1;34m\u001b[0m\n\u001b[0;32m      1\u001b[0m \u001b[1;31m# set up an API connection using credentials from the keys file\u001b[0m\u001b[1;33m\u001b[0m\u001b[1;33m\u001b[0m\u001b[1;33m\u001b[0m\u001b[0m\n\u001b[0;32m      2\u001b[0m \u001b[1;33m\u001b[0m\u001b[0m\n\u001b[1;32m----> 3\u001b[1;33m api = TwitterAPI(consumer_key, consumer_secret, \n\u001b[0m\u001b[0;32m      4\u001b[0m                  access_token, access_token_secret)\n\u001b[0;32m      5\u001b[0m \u001b[1;33m\u001b[0m\u001b[0m\n",
      "\u001b[1;31mNameError\u001b[0m: name 'TwitterAPI' is not defined"
     ]
    }
   ],
   "source": [
    "# set up an API connection using credentials from the keys file\n",
    "\n",
    "api = TwitterAPI(consumer_key, consumer_secret, \n",
    "                 access_token, access_token_secret)\n",
    "\n",
    "print(\"Connection is set up but not tested\")"
   ]
  },
  {
   "cell_type": "markdown",
   "metadata": {},
   "source": [
    "### Making a simple data request"
   ]
  },
  {
   "cell_type": "code",
   "execution_count": 23,
   "metadata": {},
   "outputs": [
    {
     "ename": "NameError",
     "evalue": "name 'api' is not defined",
     "output_type": "error",
     "traceback": [
      "\u001b[1;31m---------------------------------------------------------------------------\u001b[0m",
      "\u001b[1;31mNameError\u001b[0m                                 Traceback (most recent call last)",
      "\u001b[1;32m<ipython-input-23-5f60b35c5b15>\u001b[0m in \u001b[0;36m<module>\u001b[1;34m\u001b[0m\n\u001b[0;32m      6\u001b[0m     \u001b[1;34m'count'\u001b[0m\u001b[1;33m:\u001b[0m \u001b[1;36m1\u001b[0m\u001b[1;33m\u001b[0m\u001b[1;33m\u001b[0m\u001b[0m\n\u001b[0;32m      7\u001b[0m }\n\u001b[1;32m----> 8\u001b[1;33m \u001b[0mr\u001b[0m \u001b[1;33m=\u001b[0m \u001b[0mapi\u001b[0m\u001b[1;33m.\u001b[0m\u001b[0mrequest\u001b[0m\u001b[1;33m(\u001b[0m\u001b[0mendpoint\u001b[0m\u001b[1;33m,\u001b[0m \u001b[0mparams\u001b[0m\u001b[1;33m)\u001b[0m\u001b[1;33m\u001b[0m\u001b[1;33m\u001b[0m\u001b[0m\n\u001b[0m\u001b[0;32m      9\u001b[0m \u001b[1;33m\u001b[0m\u001b[0m\n\u001b[0;32m     10\u001b[0m \u001b[1;32mfor\u001b[0m \u001b[0mtweet\u001b[0m \u001b[1;32min\u001b[0m \u001b[0mr\u001b[0m\u001b[1;33m.\u001b[0m\u001b[0mget_iterator\u001b[0m\u001b[1;33m(\u001b[0m\u001b[1;33m)\u001b[0m\u001b[1;33m:\u001b[0m\u001b[1;33m\u001b[0m\u001b[1;33m\u001b[0m\u001b[0m\n",
      "\u001b[1;31mNameError\u001b[0m: name 'api' is not defined"
     ]
    }
   ],
   "source": [
    "# most recent tweet from @UCBerkeley's timeline\n",
    "\n",
    "endpoint = 'statuses/user_timeline'\n",
    "params = {\n",
    "    'screen_name': 'UKAthletics', \n",
    "    'count': 1\n",
    "}\n",
    "r = api.request(endpoint, params)\n",
    "\n",
    "for tweet in r.get_iterator():\n",
    "    print(tweet['text'])"
   ]
  },
  {
   "cell_type": "code",
   "execution_count": 24,
   "metadata": {},
   "outputs": [
    {
     "ename": "NameError",
     "evalue": "name 'tweet' is not defined",
     "output_type": "error",
     "traceback": [
      "\u001b[1;31m---------------------------------------------------------------------------\u001b[0m",
      "\u001b[1;31mNameError\u001b[0m                                 Traceback (most recent call last)",
      "\u001b[1;32m<ipython-input-24-703372a94588>\u001b[0m in \u001b[0;36m<module>\u001b[1;34m\u001b[0m\n\u001b[0;32m      1\u001b[0m \u001b[1;31m# what other data is there?\u001b[0m\u001b[1;33m\u001b[0m\u001b[1;33m\u001b[0m\u001b[1;33m\u001b[0m\u001b[0m\n\u001b[0;32m      2\u001b[0m \u001b[1;33m\u001b[0m\u001b[0m\n\u001b[1;32m----> 3\u001b[1;33m \u001b[0mpp\u001b[0m\u001b[1;33m.\u001b[0m\u001b[0mpprint\u001b[0m\u001b[1;33m(\u001b[0m\u001b[0mtweet\u001b[0m\u001b[1;33m)\u001b[0m\u001b[1;33m\u001b[0m\u001b[1;33m\u001b[0m\u001b[0m\n\u001b[0m",
      "\u001b[1;31mNameError\u001b[0m: name 'tweet' is not defined"
     ]
    }
   ],
   "source": [
    "# what other data is there?\n",
    "\n",
    "pp.pprint(tweet)"
   ]
  },
  {
   "cell_type": "markdown",
   "metadata": {},
   "source": [
    "### Other API endpoints allow different types of searches"
   ]
  },
  {
   "cell_type": "code",
   "execution_count": 25,
   "metadata": {},
   "outputs": [
    {
     "ename": "NameError",
     "evalue": "name 'api' is not defined",
     "output_type": "error",
     "traceback": [
      "\u001b[1;31m---------------------------------------------------------------------------\u001b[0m",
      "\u001b[1;31mNameError\u001b[0m                                 Traceback (most recent call last)",
      "\u001b[1;32m<ipython-input-25-1fbb9ed3ec31>\u001b[0m in \u001b[0;36m<module>\u001b[1;34m\u001b[0m\n\u001b[0;32m      6\u001b[0m     \u001b[1;34m'count'\u001b[0m\u001b[1;33m:\u001b[0m \u001b[1;36m5\u001b[0m\u001b[1;33m\u001b[0m\u001b[1;33m\u001b[0m\u001b[0m\n\u001b[0;32m      7\u001b[0m }\n\u001b[1;32m----> 8\u001b[1;33m \u001b[0mr\u001b[0m \u001b[1;33m=\u001b[0m \u001b[0mapi\u001b[0m\u001b[1;33m.\u001b[0m\u001b[0mrequest\u001b[0m\u001b[1;33m(\u001b[0m\u001b[0mendpoint\u001b[0m\u001b[1;33m,\u001b[0m \u001b[0mparams\u001b[0m\u001b[1;33m)\u001b[0m\u001b[1;33m\u001b[0m\u001b[1;33m\u001b[0m\u001b[0m\n\u001b[0m\u001b[0;32m      9\u001b[0m \u001b[1;33m\u001b[0m\u001b[0m\n\u001b[0;32m     10\u001b[0m \u001b[1;32mfor\u001b[0m \u001b[0mtweet\u001b[0m \u001b[1;32min\u001b[0m \u001b[0mr\u001b[0m\u001b[1;33m.\u001b[0m\u001b[0mget_iterator\u001b[0m\u001b[1;33m(\u001b[0m\u001b[1;33m)\u001b[0m\u001b[1;33m:\u001b[0m\u001b[1;33m\u001b[0m\u001b[1;33m\u001b[0m\u001b[0m\n",
      "\u001b[1;31mNameError\u001b[0m: name 'api' is not defined"
     ]
    }
   ],
   "source": [
    "# search for public tweets about #BBN\n",
    "\n",
    "endpoint = 'search/tweets'\n",
    "params = {\n",
    "    'q': '#BBN', \n",
    "    'count': 5\n",
    "}\n",
    "r = api.request(endpoint, params)\n",
    "\n",
    "for tweet in r.get_iterator():\n",
    "    print(tweet['text'] + '\\n')"
   ]
  },
  {
   "cell_type": "code",
   "execution_count": null,
   "metadata": {},
   "outputs": [],
   "source": [
    "# search for public tweets in Hindi\n",
    "\n",
    "endpoint = 'search/tweets'\n",
    "params = {\n",
    "    'q': '*', \n",
    "    'lang': 'hi', \n",
    "    'count': 5\n",
    "} \n",
    "r = api.request(endpoint, params)\n",
    "\n",
    "for tweet in r.get_iterator():\n",
    "    print(tweet['text'] + '\\n')"
   ]
  },
  {
   "cell_type": "code",
   "execution_count": null,
   "metadata": {},
   "outputs": [],
   "source": [
    "# search for public tweets geotagged near the UK campus\n",
    "\n",
    "endpoint = 'search/tweets'\n",
    "params = {\n",
    "    'q': '*', \n",
    "    'geocode': '38.034,-84.500,0.5km', \n",
    "    'count': 10\n",
    "} \n",
    "r = api.request(endpoint, params)\n",
    "\n",
    "for tweet in r.get_iterator():\n",
    "    print(tweet['text'] + '\\n')"
   ]
  },
  {
   "cell_type": "markdown",
   "metadata": {},
   "source": [
    "### Exercises\n",
    "\n",
    "1. Try some different search queries!\n",
    "2. Display some more data fields in addition to the tweet text"
   ]
  },
  {
   "cell_type": "code",
   "execution_count": 30,
   "metadata": {},
   "outputs": [
    {
     "ename": "NameError",
     "evalue": "name 'api' is not defined",
     "output_type": "error",
     "traceback": [
      "\u001b[1;31m---------------------------------------------------------------------------\u001b[0m",
      "\u001b[1;31mNameError\u001b[0m                                 Traceback (most recent call last)",
      "\u001b[1;32m<ipython-input-30-f535abe5c899>\u001b[0m in \u001b[0;36m<module>\u001b[1;34m\u001b[0m\n\u001b[0;32m      6\u001b[0m     \u001b[1;34m'count'\u001b[0m\u001b[1;33m:\u001b[0m \u001b[1;36m5\u001b[0m\u001b[1;33m\u001b[0m\u001b[1;33m\u001b[0m\u001b[0m\n\u001b[0;32m      7\u001b[0m } \n\u001b[1;32m----> 8\u001b[1;33m \u001b[0mr\u001b[0m \u001b[1;33m=\u001b[0m \u001b[0mapi\u001b[0m\u001b[1;33m.\u001b[0m\u001b[0mrequest\u001b[0m\u001b[1;33m(\u001b[0m\u001b[0mendpoint\u001b[0m\u001b[1;33m,\u001b[0m \u001b[0mparams\u001b[0m\u001b[1;33m)\u001b[0m\u001b[1;33m\u001b[0m\u001b[1;33m\u001b[0m\u001b[0m\n\u001b[0m\u001b[0;32m      9\u001b[0m \u001b[1;33m\u001b[0m\u001b[0m\n\u001b[0;32m     10\u001b[0m \u001b[1;32mfor\u001b[0m \u001b[0mtweet\u001b[0m \u001b[1;32min\u001b[0m \u001b[0mr\u001b[0m\u001b[1;33m.\u001b[0m\u001b[0mget_iterator\u001b[0m\u001b[1;33m(\u001b[0m\u001b[1;33m)\u001b[0m\u001b[1;33m:\u001b[0m\u001b[1;33m\u001b[0m\u001b[1;33m\u001b[0m\u001b[0m\n",
      "\u001b[1;31mNameError\u001b[0m: name 'api' is not defined"
     ]
    }
   ],
   "source": [
    "# different search \n",
    "\n",
    "endpoint = 'search/tweets'\n",
    "params = {\n",
    "    'q': 'music',  \n",
    "    'count': 5\n",
    "} \n",
    "r = api.request(endpoint, params)\n",
    "\n",
    "for tweet in r.get_iterator():\n",
    "    print(tweet['text'] + '\\n')"
   ]
  },
  {
   "cell_type": "code",
   "execution_count": null,
   "metadata": {
    "collapsed": true
   },
   "outputs": [],
   "source": [
    "# more data fields\n",
    "\n",
    "endpoint = 'search/tweets'\n",
    "params = {\n",
    "    'q': 'traffic',\n",
    "    'location': 'Seattle, WA',\n",
    "    'count': 5\n",
    "} \n",
    "r = api.request(endpoint, params)\n",
    "\n",
    "for tweet in r.get_iterator():\n",
    "    print(tweet['text'] + '\\n')"
   ]
  },
  {
   "cell_type": "code",
   "execution_count": null,
   "metadata": {
    "collapsed": true
   },
   "outputs": [],
   "source": [
    "#more data field\n",
    "endpoint = 'search/tweets'\n",
    "params = {\n",
    "    'q': 'data',\n",
    "    'time_zone': 'Eastern Time (US & Canada)',\n",
    "    'count': 5\n",
    "} \n",
    "r = api.request(endpoint, params)\n",
    "\n",
    "for tweet in r.get_iterator():\n",
    "    print(tweet['text'] + '\\n')"
   ]
  },
  {
   "cell_type": "markdown",
   "metadata": {},
   "source": [
    "### Bonus: Streaming live tweets in real time "
   ]
  },
  {
   "cell_type": "code",
   "execution_count": null,
   "metadata": {},
   "outputs": [],
   "source": [
    "# Twitter limits simultaneous connections to the streaming API,\n",
    "# so this part may not work using the demo API keys during class\n",
    "\n",
    "endpoint = 'statuses/filter'\n",
    "params = {'locations': '-180,-90,180,90'}\n",
    "r = api.request(endpoint, params)\n",
    "LIMIT = 20\n",
    "\n",
    "# 'enumerate' lets us count tweets as we receive them\n",
    "\n",
    "for i, tweet in enumerate(r.get_iterator()):\n",
    "    print(tweet['created_at'])\n",
    "    print(tweet['place']['full_name'] + ', ' + tweet['place']['country'])\n",
    "    print(tweet['text'] + '\\n')\n",
    "    if (i > LIMIT): break\n",
    "\n",
    "# close the streaming connection\n",
    "r.close()"
   ]
  },
  {
   "cell_type": "code",
   "execution_count": null,
   "metadata": {
    "collapsed": true
   },
   "outputs": [],
   "source": []
  },
  {
   "cell_type": "code",
   "execution_count": null,
   "metadata": {
    "collapsed": true
   },
   "outputs": [],
   "source": []
  },
  {
   "cell_type": "code",
   "execution_count": null,
   "metadata": {
    "collapsed": true
   },
   "outputs": [],
   "source": []
  },
  {
   "cell_type": "markdown",
   "metadata": {},
   "source": [
    "### Exercises for the remainder of class\n",
    "\n",
    "1. Make a scatter plot of the lat-lon coordinates of earthquakes.  \n",
    "   &nbsp;\n",
    "   \n",
    "2. Using the geocoding example as a starting point, try searching the Google Maps Directions API or Elevation API instead. Descriptions are in the [API documentation](https://developers.google.com/maps/documentation/geocoding/intro).  \n",
    "   &nbsp;\n",
    "   "
   ]
  },
  {
   "cell_type": "code",
   "execution_count": 31,
   "metadata": {},
   "outputs": [
    {
     "name": "stdout",
     "output_type": "stream",
     "text": [
      "296\n"
     ]
    },
    {
     "data": {
      "text/html": [
       "<div>\n",
       "<style scoped>\n",
       "    .dataframe tbody tr th:only-of-type {\n",
       "        vertical-align: middle;\n",
       "    }\n",
       "\n",
       "    .dataframe tbody tr th {\n",
       "        vertical-align: top;\n",
       "    }\n",
       "\n",
       "    .dataframe thead th {\n",
       "        text-align: right;\n",
       "    }\n",
       "</style>\n",
       "<table border=\"1\" class=\"dataframe\">\n",
       "  <thead>\n",
       "    <tr style=\"text-align: right;\">\n",
       "      <th></th>\n",
       "      <th>lat</th>\n",
       "      <th>long</th>\n",
       "    </tr>\n",
       "  </thead>\n",
       "  <tbody>\n",
       "    <tr>\n",
       "      <th>0</th>\n",
       "      <td>-156.9264</td>\n",
       "      <td>66.302200</td>\n",
       "    </tr>\n",
       "    <tr>\n",
       "      <th>1</th>\n",
       "      <td>-157.4429</td>\n",
       "      <td>66.246300</td>\n",
       "    </tr>\n",
       "    <tr>\n",
       "      <th>2</th>\n",
       "      <td>-153.1752</td>\n",
       "      <td>59.931000</td>\n",
       "    </tr>\n",
       "    <tr>\n",
       "      <th>3</th>\n",
       "      <td>-115.8145</td>\n",
       "      <td>31.902833</td>\n",
       "    </tr>\n",
       "    <tr>\n",
       "      <th>4</th>\n",
       "      <td>178.5220</td>\n",
       "      <td>50.805800</td>\n",
       "    </tr>\n",
       "  </tbody>\n",
       "</table>\n",
       "</div>"
      ],
      "text/plain": [
       "        lat       long\n",
       "0 -156.9264  66.302200\n",
       "1 -157.4429  66.246300\n",
       "2 -153.1752  59.931000\n",
       "3 -115.8145  31.902833\n",
       "4  178.5220  50.805800"
      ]
     },
     "execution_count": 31,
     "metadata": {},
     "output_type": "execute_result"
    }
   ],
   "source": [
    "# pull out magnitudes and depths into a Pandas dataframe, using\n",
    "# a more compact Python syntax for iterating through lists\n",
    "\n",
    "d = {'lat': [q['geometry']['coordinates'][0] for q in quakes],\n",
    "     'long': [q['geometry']['coordinates'][1] for q in quakes]}\n",
    "\n",
    "df = pd.DataFrame.from_dict(d)\n",
    "\n",
    "\n",
    "# how many earthquakes were loaded into the dataframe?\n",
    "print(len(df))\n",
    "df.head()"
   ]
  },
  {
   "cell_type": "code",
   "execution_count": 32,
   "metadata": {},
   "outputs": [
    {
     "data": {
      "text/plain": [
       "<matplotlib.axes._subplots.AxesSubplot at 0x280a5a70198>"
      ]
     },
     "execution_count": 32,
     "metadata": {},
     "output_type": "execute_result"
    },
    {
     "data": {
      "image/png": "[encoded data removed]",
      "text/plain": [
       "<Figure size 432x288 with 1 Axes>"
      ]
     },
     "metadata": {
      "needs_background": "light"
     },
     "output_type": "display_data"
    }
   ],
   "source": [
    "# plot the lat vs.long\n",
    "\n",
    "df.plot(x='lat', y='long', kind='scatter')"
   ]
  },
  {
   "cell_type": "code",
   "execution_count": 33,
   "metadata": {},
   "outputs": [
    {
     "name": "stdout",
     "output_type": "stream",
     "text": [
      "https://maps.googleapis.com/maps/api/directions/json?origin=41.43206%2C-81.38992&destination=California&key=\n"
     ]
    }
   ],
   "source": [
    "# we have to encode the search query so that it can be passed as a URL, \n",
    "# with spaces and other special characters removed\n",
    "\n",
    "endpoint = 'https://maps.googleapis.com/maps/api/directions/json'\n",
    "params = {\n",
    "    'origin': '41.43206,-81.38992',\n",
    "    'destination':'California',\n",
    "    'key':''\n",
    "}\n",
    "url = requests.Request('GET', endpoint, params=params).prepare().url\n",
    "print(url)"
   ]
  },
  {
   "cell_type": "code",
   "execution_count": 34,
   "metadata": {},
   "outputs": [
    {
     "name": "stdout",
     "output_type": "stream",
     "text": [
      "{'error_message': 'You must use an API key to authenticate each request to Google Maps Platform APIs. For additional information, please refer to http://g.co/dev/maps-no-account', 'routes': [], 'status': 'REQUEST_DENIED'}\n"
     ]
    }
   ],
   "source": [
    "# download and parse the results\n",
    "\n",
    "response = requests.get(url)\n",
    "results = response.text\n",
    "data = json.loads(results)\n",
    "\n",
    "print(data)"
   ]
  },
  {
   "cell_type": "code",
   "execution_count": null,
   "metadata": {},
   "outputs": [],
   "source": []
  },
  {
   "cell_type": "markdown",
   "metadata": {
    "collapsed": true
   },
   "source": [
    "### For next time...\n",
    "\n",
    "In the next class, you will try out another API that provides data you're interested in. You will be asked to try connecting to it using Python code, and performing some basic operations on the data.  To come prepared for next time, please explore some of the transportation-related APIs that may be valuable, and choose one that is of interest to you.\n",
    "\n",
    "Here are a a few to get you started. \n",
    "\n",
    "Public Transit\n",
    "https://www.programmableweb.com/news/how-smart-cities-are-using-apis-public-transport-apis/2014/05/22\n",
    "\n",
    "Long-Distance Travel\n",
    "http://www.olery.com/blog/the-best-travel-apis-discover-contribute/ \n",
    "\n",
    "Transportation\n",
    "https://www.programmableweb.com/category/transportation/api\n",
    "\n",
    "\n",
    "Start by reading the public transit page, because that provides a nice overview of the types of applications out there, and some of the issues in using them.  These lessons often apply to traffic and transportation more generally.  \n",
    "\n",
    "Keep in mind that there are a number of different organizations that provide APIs, with different motivations and quality of what is provided.  If it is a private company, what is their business model?  What is the underlying source of the data, and what might that imply about how representative it is of the real world?  There is a ton of stuff out there.  How do we go about sorting out what is useful to us and what is now.  Spend some time exploring these and thinking about these questions.  \n"
   ]
  },
  {
   "cell_type": "code",
   "execution_count": null,
   "metadata": {
    "collapsed": true
   },
   "outputs": [],
   "source": []
  },
  {
   "cell_type": "code",
   "execution_count": null,
   "metadata": {
    "collapsed": true
   },
   "outputs": [],
   "source": []
  }
 ],
 "metadata": {
  "anaconda-cloud": {},
  "kernelspec": {
   "display_name": "Python 3",
   "language": "python",
   "name": "python3"
  },
  "language_info": {
   "codemirror_mode": {
    "name": "ipython",
    "version": 3
   },
   "file_extension": ".py",
   "mimetype": "text/x-python",
   "name": "python",
   "nbconvert_exporter": "python",
   "pygments_lexer": "ipython3",
   "version": "3.7.1"
  }
 },
 "nbformat": 4,
 "nbformat_minor": 1
}
