{
 "cells": [
  {
   "cell_type": "markdown",
   "metadata": {},
   "source": [
    "# Time-Series Modeling\n",
    "\n",
    "This lesson is adapted from Sean Abu: \n",
    "\n",
    "http://www.seanabu.com/2016/03/22/time-series-seasonal-ARIMA-model-in-python/\n",
    "\n",
    "With examples from Forecasting Principles and Practice, by Hyndman and Athanastopoulos: \n",
    "\n",
    "https://www.otexts.org/fpp\n",
    "\n",
    "The latter is an excellent text book and worth checking out.  I also recommend their fpp package for R, which provides some nice functionality to auto-select the order of an ARIMA model.  \n",
    "\n",
    "### Basics\n",
    "\n",
    "A time-series is a series of data points indexed in time order.  It is naturally one-dimensional, and for our purposes we will consider that all points are equally spaced.\n",
    "\n",
    "We may want to model time series for either inference (understanding statistical relationships), or for forecasting.  We may select different approaches depending on our interest.  There are two main approaches we will consider here: \n",
    "\n",
    "1. Regression on time-series data. This is about predicting a time series based on exogenous variables.  \n",
    "2. ARIMA modeling.  This is about predicting a time series as a function of its past values.  \n",
    "\n",
    "We can also combine the two: ARIMA models with exogenous regressors.  \n",
    "\n",
    "The focus today is on the modeling.  Pandas provides some nice data wrangling methods for working with time series data which are documented here: \n",
    "\n",
    "http://pandas.pydata.org/pandas-docs/stable/timeseries.html\n"
   ]
  },
  {
   "cell_type": "markdown",
   "metadata": {},
   "source": [
    "### Regression on time-series data\n"
   ]
  },
  {
   "cell_type": "code",
   "execution_count": 1,
   "metadata": {
    "collapsed": false
   },
   "outputs": [
    {
     "name": "stderr",
     "output_type": "stream",
     "text": [
      "C:\\Program Files\\Anaconda3\\lib\\site-packages\\statsmodels\\compat\\pandas.py:56: FutureWarning: The pandas.core.datetools module is deprecated and will be removed in a future version. Please use the pandas.tseries module instead.\n",
      "  from pandas.core import datetools\n"
     ]
    }
   ],
   "source": [
    "%matplotlib inline\n",
    "\n",
    "import pandas as pd\n",
    "import seaborn as sns\n",
    "import numpy as np\n",
    "import statsmodels.api as sm\n",
    "import statsmodels.formula.api as smf\n"
   ]
  },
  {
   "cell_type": "code",
   "execution_count": 2,
   "metadata": {
    "collapsed": false
   },
   "outputs": [
    {
     "data": {
      "text/html": [
       "<div>\n",
       "<style>\n",
       "    .dataframe thead tr:only-child th {\n",
       "        text-align: right;\n",
       "    }\n",
       "\n",
       "    .dataframe thead th {\n",
       "        text-align: left;\n",
       "    }\n",
       "\n",
       "    .dataframe tbody tr th {\n",
       "        vertical-align: top;\n",
       "    }\n",
       "</style>\n",
       "<table border=\"1\" class=\"dataframe\">\n",
       "  <thead>\n",
       "    <tr style=\"text-align: right;\">\n",
       "      <th></th>\n",
       "      <th>AUSAIR</th>\n",
       "      <th>GUINEARICE</th>\n",
       "    </tr>\n",
       "    <tr>\n",
       "      <th>YEAR</th>\n",
       "      <th></th>\n",
       "      <th></th>\n",
       "    </tr>\n",
       "  </thead>\n",
       "  <tbody>\n",
       "    <tr>\n",
       "      <th>1970-01-01</th>\n",
       "      <td>7.318700</td>\n",
       "      <td>0.311405</td>\n",
       "    </tr>\n",
       "    <tr>\n",
       "      <th>1971-01-01</th>\n",
       "      <td>7.326600</td>\n",
       "      <td>0.325180</td>\n",
       "    </tr>\n",
       "    <tr>\n",
       "      <th>1972-01-01</th>\n",
       "      <td>7.795600</td>\n",
       "      <td>0.339565</td>\n",
       "    </tr>\n",
       "    <tr>\n",
       "      <th>1973-01-01</th>\n",
       "      <td>9.384600</td>\n",
       "      <td>0.354580</td>\n",
       "    </tr>\n",
       "    <tr>\n",
       "      <th>1974-01-01</th>\n",
       "      <td>10.664700</td>\n",
       "      <td>0.370265</td>\n",
       "    </tr>\n",
       "    <tr>\n",
       "      <th>1975-01-01</th>\n",
       "      <td>11.055100</td>\n",
       "      <td>0.386640</td>\n",
       "    </tr>\n",
       "    <tr>\n",
       "      <th>1976-01-01</th>\n",
       "      <td>10.864300</td>\n",
       "      <td>0.403740</td>\n",
       "    </tr>\n",
       "    <tr>\n",
       "      <th>1977-01-01</th>\n",
       "      <td>11.306500</td>\n",
       "      <td>0.421600</td>\n",
       "    </tr>\n",
       "    <tr>\n",
       "      <th>1978-01-01</th>\n",
       "      <td>12.122300</td>\n",
       "      <td>0.440250</td>\n",
       "    </tr>\n",
       "    <tr>\n",
       "      <th>1979-01-01</th>\n",
       "      <td>13.022500</td>\n",
       "      <td>0.459720</td>\n",
       "    </tr>\n",
       "    <tr>\n",
       "      <th>1980-01-01</th>\n",
       "      <td>13.648800</td>\n",
       "      <td>0.480055</td>\n",
       "    </tr>\n",
       "    <tr>\n",
       "      <th>1981-01-01</th>\n",
       "      <td>13.219500</td>\n",
       "      <td>0.501290</td>\n",
       "    </tr>\n",
       "    <tr>\n",
       "      <th>1982-01-01</th>\n",
       "      <td>13.187900</td>\n",
       "      <td>0.523460</td>\n",
       "    </tr>\n",
       "    <tr>\n",
       "      <th>1983-01-01</th>\n",
       "      <td>12.601500</td>\n",
       "      <td>0.546610</td>\n",
       "    </tr>\n",
       "    <tr>\n",
       "      <th>1984-01-01</th>\n",
       "      <td>13.236800</td>\n",
       "      <td>0.570790</td>\n",
       "    </tr>\n",
       "    <tr>\n",
       "      <th>1985-01-01</th>\n",
       "      <td>14.412100</td>\n",
       "      <td>0.596035</td>\n",
       "    </tr>\n",
       "    <tr>\n",
       "      <th>1986-01-01</th>\n",
       "      <td>15.497300</td>\n",
       "      <td>0.622395</td>\n",
       "    </tr>\n",
       "    <tr>\n",
       "      <th>1987-01-01</th>\n",
       "      <td>16.880200</td>\n",
       "      <td>0.649925</td>\n",
       "    </tr>\n",
       "    <tr>\n",
       "      <th>1988-01-01</th>\n",
       "      <td>18.816300</td>\n",
       "      <td>0.678670</td>\n",
       "    </tr>\n",
       "    <tr>\n",
       "      <th>1989-01-01</th>\n",
       "      <td>15.114300</td>\n",
       "      <td>0.708690</td>\n",
       "    </tr>\n",
       "    <tr>\n",
       "      <th>1990-01-01</th>\n",
       "      <td>17.553400</td>\n",
       "      <td>0.740035</td>\n",
       "    </tr>\n",
       "    <tr>\n",
       "      <th>1991-01-01</th>\n",
       "      <td>21.860100</td>\n",
       "      <td>0.772765</td>\n",
       "    </tr>\n",
       "    <tr>\n",
       "      <th>1992-01-01</th>\n",
       "      <td>23.886600</td>\n",
       "      <td>0.806945</td>\n",
       "    </tr>\n",
       "    <tr>\n",
       "      <th>1993-01-01</th>\n",
       "      <td>26.929300</td>\n",
       "      <td>0.842635</td>\n",
       "    </tr>\n",
       "    <tr>\n",
       "      <th>1994-01-01</th>\n",
       "      <td>26.888500</td>\n",
       "      <td>0.879905</td>\n",
       "    </tr>\n",
       "    <tr>\n",
       "      <th>1995-01-01</th>\n",
       "      <td>28.831400</td>\n",
       "      <td>0.918825</td>\n",
       "    </tr>\n",
       "    <tr>\n",
       "      <th>1996-01-01</th>\n",
       "      <td>30.075100</td>\n",
       "      <td>0.959460</td>\n",
       "    </tr>\n",
       "    <tr>\n",
       "      <th>1997-01-01</th>\n",
       "      <td>30.953500</td>\n",
       "      <td>1.001900</td>\n",
       "    </tr>\n",
       "    <tr>\n",
       "      <th>1998-01-01</th>\n",
       "      <td>30.185700</td>\n",
       "      <td>1.046220</td>\n",
       "    </tr>\n",
       "    <tr>\n",
       "      <th>1999-01-01</th>\n",
       "      <td>31.579700</td>\n",
       "      <td>1.092490</td>\n",
       "    </tr>\n",
       "    <tr>\n",
       "      <th>2000-01-01</th>\n",
       "      <td>32.577569</td>\n",
       "      <td>1.140810</td>\n",
       "    </tr>\n",
       "    <tr>\n",
       "      <th>2001-01-01</th>\n",
       "      <td>33.477398</td>\n",
       "      <td>1.033520</td>\n",
       "    </tr>\n",
       "    <tr>\n",
       "      <th>2002-01-01</th>\n",
       "      <td>39.021581</td>\n",
       "      <td>1.088670</td>\n",
       "    </tr>\n",
       "    <tr>\n",
       "      <th>2003-01-01</th>\n",
       "      <td>41.386432</td>\n",
       "      <td>1.146760</td>\n",
       "    </tr>\n",
       "    <tr>\n",
       "      <th>2004-01-01</th>\n",
       "      <td>41.596552</td>\n",
       "      <td>1.207960</td>\n",
       "    </tr>\n",
       "    <tr>\n",
       "      <th>2005-01-01</th>\n",
       "      <td>44.657324</td>\n",
       "      <td>1.272420</td>\n",
       "    </tr>\n",
       "    <tr>\n",
       "      <th>2006-01-01</th>\n",
       "      <td>46.951775</td>\n",
       "      <td>1.340310</td>\n",
       "    </tr>\n",
       "    <tr>\n",
       "      <th>2007-01-01</th>\n",
       "      <td>48.728837</td>\n",
       "      <td>1.401590</td>\n",
       "    </tr>\n",
       "    <tr>\n",
       "      <th>2008-01-01</th>\n",
       "      <td>51.488427</td>\n",
       "      <td>1.534090</td>\n",
       "    </tr>\n",
       "    <tr>\n",
       "      <th>2009-01-01</th>\n",
       "      <td>50.026967</td>\n",
       "      <td>1.499000</td>\n",
       "    </tr>\n",
       "  </tbody>\n",
       "</table>\n",
       "</div>"
      ],
      "text/plain": [
       "               AUSAIR  GUINEARICE\n",
       "YEAR                             \n",
       "1970-01-01   7.318700    0.311405\n",
       "1971-01-01   7.326600    0.325180\n",
       "1972-01-01   7.795600    0.339565\n",
       "1973-01-01   9.384600    0.354580\n",
       "1974-01-01  10.664700    0.370265\n",
       "1975-01-01  11.055100    0.386640\n",
       "1976-01-01  10.864300    0.403740\n",
       "1977-01-01  11.306500    0.421600\n",
       "1978-01-01  12.122300    0.440250\n",
       "1979-01-01  13.022500    0.459720\n",
       "1980-01-01  13.648800    0.480055\n",
       "1981-01-01  13.219500    0.501290\n",
       "1982-01-01  13.187900    0.523460\n",
       "1983-01-01  12.601500    0.546610\n",
       "1984-01-01  13.236800    0.570790\n",
       "1985-01-01  14.412100    0.596035\n",
       "1986-01-01  15.497300    0.622395\n",
       "1987-01-01  16.880200    0.649925\n",
       "1988-01-01  18.816300    0.678670\n",
       "1989-01-01  15.114300    0.708690\n",
       "1990-01-01  17.553400    0.740035\n",
       "1991-01-01  21.860100    0.772765\n",
       "1992-01-01  23.886600    0.806945\n",
       "1993-01-01  26.929300    0.842635\n",
       "1994-01-01  26.888500    0.879905\n",
       "1995-01-01  28.831400    0.918825\n",
       "1996-01-01  30.075100    0.959460\n",
       "1997-01-01  30.953500    1.001900\n",
       "1998-01-01  30.185700    1.046220\n",
       "1999-01-01  31.579700    1.092490\n",
       "2000-01-01  32.577569    1.140810\n",
       "2001-01-01  33.477398    1.033520\n",
       "2002-01-01  39.021581    1.088670\n",
       "2003-01-01  41.386432    1.146760\n",
       "2004-01-01  41.596552    1.207960\n",
       "2005-01-01  44.657324    1.272420\n",
       "2006-01-01  46.951775    1.340310\n",
       "2007-01-01  48.728837    1.401590\n",
       "2008-01-01  51.488427    1.534090\n",
       "2009-01-01  50.026967    1.499000"
      ]
     },
     "execution_count": 2,
     "metadata": {},
     "output_type": "execute_result"
    }
   ],
   "source": [
    "# This data has\n",
    "air = pd.read_csv('data/ausair.csv', parse_dates=['YEAR'], index_col='YEAR')\n",
    "air"
   ]
  },
  {
   "cell_type": "code",
   "execution_count": 3,
   "metadata": {
    "collapsed": false
   },
   "outputs": [
    {
     "data": {
      "text/plain": [
       "array([<matplotlib.axes._subplots.AxesSubplot object at 0x000000F10CD640B8>,\n",
       "       <matplotlib.axes._subplots.AxesSubplot object at 0x000000F10CC5A2B0>], dtype=object)"
      ]
     },
     "execution_count": 3,
     "metadata": {},
     "output_type": "execute_result"
    },
    {
     "data": {
      "image/png": "[encoded data removed]",
      "text/plain": [
       "<matplotlib.figure.Figure at 0xf105d40e10>"
      ]
     },
     "metadata": {},
     "output_type": "display_data"
    }
   ],
   "source": [
    "# Both time series are growing over the period of interest...\n",
    "\n",
    "air.plot(subplots=True)"
   ]
  },
  {
   "cell_type": "code",
   "execution_count": 4,
   "metadata": {
    "collapsed": false
   },
   "outputs": [
    {
     "data": {
      "text/plain": [
       "<seaborn.axisgrid.JointGrid at 0xf10c9efb00>"
      ]
     },
     "execution_count": 4,
     "metadata": {},
     "output_type": "execute_result"
    },
    {
     "data": {
      "image/png": "[encoded data removed]",
      "text/plain": [
       "<matplotlib.figure.Figure at 0xf10c9ef390>"
      ]
     },
     "metadata": {},
     "output_type": "display_data"
    }
   ],
   "source": [
    "# when we plot them against each other, they look to be highly correlated...\n",
    "\n",
    "sns.jointplot(x=\"GUINEARICE\", y=\"AUSAIR\", data=air)"
   ]
  },
  {
   "cell_type": "code",
   "execution_count": 5,
   "metadata": {
    "collapsed": false
   },
   "outputs": [
    {
     "name": "stdout",
     "output_type": "stream",
     "text": [
      "                            OLS Regression Results                            \n",
      "==============================================================================\n",
      "Dep. Variable:                 AUSAIR   R-squared:                       0.971\n",
      "Model:                            OLS   Adj. R-squared:                  0.970\n",
      "Method:                 Least Squares   F-statistic:                     1272.\n",
      "Date:                Fri, 27 Apr 2018   Prob (F-statistic):           7.94e-31\n",
      "Time:                        16:24:32   Log-Likelihood:                -89.643\n",
      "No. Observations:                  40   AIC:                             183.3\n",
      "Df Residuals:                      38   BIC:                             186.7\n",
      "Df Model:                           1                                         \n",
      "Covariance Type:            nonrobust                                         \n",
      "==============================================================================\n",
      "                 coef    std err          t      P>|t|      [0.025      0.975]\n",
      "------------------------------------------------------------------------------\n",
      "Intercept     -5.7297      0.903     -6.348      0.000      -7.557      -3.902\n",
      "GUINEARICE    37.4101      1.049     35.672      0.000      35.287      39.533\n",
      "==============================================================================\n",
      "Omnibus:                        1.905   Durbin-Watson:                   0.491\n",
      "Prob(Omnibus):                  0.386   Jarque-Bera (JB):                1.655\n",
      "Skew:                          -0.485   Prob(JB):                        0.437\n",
      "Kurtosis:                       2.774   Cond. No.                         4.73\n",
      "==============================================================================\n",
      "\n",
      "Warnings:\n",
      "[1] Standard Errors assume that the covariance matrix of the errors is correctly specified.\n"
     ]
    }
   ],
   "source": [
    "# so let's estimate a regression model\n",
    "\n",
    "mod = smf.ols(formula='AUSAIR ~ GUINEARICE', data=air)\n",
    "res = mod.fit()\n",
    "print(res.summary())"
   ]
  },
  {
   "cell_type": "markdown",
   "metadata": {},
   "source": [
    "#### Woohoo!  We got an r-squared of 0.97.  This is a great model!  Right?"
   ]
  },
  {
   "cell_type": "markdown",
   "metadata": {},
   "source": [
    "Sorry to disappoint, but this is an example of **spurious regression**.  Spurious regression can happen when working with time series that are non-stationary.  \n",
    "\n",
    "I would add that the model lacks a theoretical basis as well.  It clearly falls in the category of \"If you can't explain it, you can't use it!\"  However, spurious regression can occur even when there is a theoretical basis for the model.  \n",
    "\n",
    "A stationary time series is one whose properties do not depend on the time at which the series is observed.  To avoid spurious regression, we want the dependent variable and all regressors to be stationary.  "
   ]
  },
  {
   "cell_type": "markdown",
   "metadata": {},
   "source": [
    "One way to tell if data are stationary is to plot them, and look for either a trend or a cycle\n"
   ]
  },
  {
   "cell_type": "code",
   "execution_count": null,
   "metadata": {
    "collapsed": false
   },
   "outputs": [],
   "source": [
    "# check for trend or cycle\n",
    "\n",
    "air.plot(subplots=True)"
   ]
  },
  {
   "cell_type": "markdown",
   "metadata": {},
   "source": [
    "We can also look at plots of the auto-correlation function (ACF).  auto-correlation is the correlation of the time-series past values.  There are some statistical tests for this as well, but often a graphical analysis is good enough. "
   ]
  },
  {
   "cell_type": "code",
   "execution_count": null,
   "metadata": {
    "collapsed": false
   },
   "outputs": [],
   "source": [
    "# ACF plots\n",
    "\n",
    "fig = sm.graphics.tsa.plot_acf(air['AUSAIR'], lags=30)\n",
    "fig = sm.graphics.tsa.plot_acf(air['GUINEARICE'], lags=30)"
   ]
  },
  {
   "cell_type": "markdown",
   "metadata": {},
   "source": [
    "What do we do if the data are not stationary?  There are a few strategies, but differencing usually works.  All this means is subtracting each value from the previous value.  That way, you are modeling the change, rather than the total value.  "
   ]
  },
  {
   "cell_type": "code",
   "execution_count": 6,
   "metadata": {
    "collapsed": false
   },
   "outputs": [
    {
     "data": {
      "text/html": [
       "<div>\n",
       "<style>\n",
       "    .dataframe thead tr:only-child th {\n",
       "        text-align: right;\n",
       "    }\n",
       "\n",
       "    .dataframe thead th {\n",
       "        text-align: left;\n",
       "    }\n",
       "\n",
       "    .dataframe tbody tr th {\n",
       "        vertical-align: top;\n",
       "    }\n",
       "</style>\n",
       "<table border=\"1\" class=\"dataframe\">\n",
       "  <thead>\n",
       "    <tr style=\"text-align: right;\">\n",
       "      <th></th>\n",
       "      <th>AUSAIR</th>\n",
       "      <th>GUINEARICE</th>\n",
       "      <th>AUSAIR_DIFF</th>\n",
       "      <th>GUINEARICE_DIFF</th>\n",
       "    </tr>\n",
       "    <tr>\n",
       "      <th>YEAR</th>\n",
       "      <th></th>\n",
       "      <th></th>\n",
       "      <th></th>\n",
       "      <th></th>\n",
       "    </tr>\n",
       "  </thead>\n",
       "  <tbody>\n",
       "    <tr>\n",
       "      <th>1970-01-01</th>\n",
       "      <td>7.3187</td>\n",
       "      <td>0.311405</td>\n",
       "      <td>NaN</td>\n",
       "      <td>NaN</td>\n",
       "    </tr>\n",
       "    <tr>\n",
       "      <th>1971-01-01</th>\n",
       "      <td>7.3266</td>\n",
       "      <td>0.325180</td>\n",
       "      <td>0.0079</td>\n",
       "      <td>0.013775</td>\n",
       "    </tr>\n",
       "    <tr>\n",
       "      <th>1972-01-01</th>\n",
       "      <td>7.7956</td>\n",
       "      <td>0.339565</td>\n",
       "      <td>0.4690</td>\n",
       "      <td>0.014385</td>\n",
       "    </tr>\n",
       "    <tr>\n",
       "      <th>1973-01-01</th>\n",
       "      <td>9.3846</td>\n",
       "      <td>0.354580</td>\n",
       "      <td>1.5890</td>\n",
       "      <td>0.015015</td>\n",
       "    </tr>\n",
       "    <tr>\n",
       "      <th>1974-01-01</th>\n",
       "      <td>10.6647</td>\n",
       "      <td>0.370265</td>\n",
       "      <td>1.2801</td>\n",
       "      <td>0.015685</td>\n",
       "    </tr>\n",
       "  </tbody>\n",
       "</table>\n",
       "</div>"
      ],
      "text/plain": [
       "             AUSAIR  GUINEARICE  AUSAIR_DIFF  GUINEARICE_DIFF\n",
       "YEAR                                                         \n",
       "1970-01-01   7.3187    0.311405          NaN              NaN\n",
       "1971-01-01   7.3266    0.325180       0.0079         0.013775\n",
       "1972-01-01   7.7956    0.339565       0.4690         0.014385\n",
       "1973-01-01   9.3846    0.354580       1.5890         0.015015\n",
       "1974-01-01  10.6647    0.370265       1.2801         0.015685"
      ]
     },
     "execution_count": 6,
     "metadata": {},
     "output_type": "execute_result"
    }
   ],
   "source": [
    "# shift moves things by the specified number of rows\n",
    "\n",
    "air['AUSAIR_DIFF'] = air['AUSAIR'] - air['AUSAIR'].shift(1)  \n",
    "air['GUINEARICE_DIFF'] = air['GUINEARICE'] - air['GUINEARICE'].shift(1)  \n",
    "air.head()"
   ]
  },
  {
   "cell_type": "code",
   "execution_count": 7,
   "metadata": {
    "collapsed": false
   },
   "outputs": [
    {
     "data": {
      "text/plain": [
       "array([<matplotlib.axes._subplots.AxesSubplot object at 0x000000F10CA43748>,\n",
       "       <matplotlib.axes._subplots.AxesSubplot object at 0x000000F1018B6358>,\n",
       "       <matplotlib.axes._subplots.AxesSubplot object at 0x000000F1018F8390>,\n",
       "       <matplotlib.axes._subplots.AxesSubplot object at 0x000000F101941DA0>], dtype=object)"
      ]
     },
     "execution_count": 7,
     "metadata": {},
     "output_type": "execute_result"
    },
    {
     "data": {
      "image/png": "[encoded data removed]",
      "text/plain": [
       "<matplotlib.figure.Figure at 0xf10d63e1d0>"
      ]
     },
     "metadata": {},
     "output_type": "display_data"
    }
   ],
   "source": [
    "# now does it look stationary? \n",
    "\n",
    "air.plot(subplots=True)"
   ]
  },
  {
   "cell_type": "code",
   "execution_count": null,
   "metadata": {
    "collapsed": false
   },
   "outputs": [],
   "source": [
    "# ACF plots\n",
    "# the first row is missing, so skip that one..\n",
    "\n",
    "fig = sm.graphics.tsa.plot_acf(air['AUSAIR_DIFF'][1:], lags=30)\n",
    "fig = sm.graphics.tsa.plot_acf(air['GUINEARICE_DIFF'][1:], lags=30)"
   ]
  },
  {
   "cell_type": "code",
   "execution_count": 8,
   "metadata": {
    "collapsed": false
   },
   "outputs": [
    {
     "data": {
      "text/html": [
       "<div>\n",
       "<style>\n",
       "    .dataframe thead tr:only-child th {\n",
       "        text-align: right;\n",
       "    }\n",
       "\n",
       "    .dataframe thead th {\n",
       "        text-align: left;\n",
       "    }\n",
       "\n",
       "    .dataframe tbody tr th {\n",
       "        vertical-align: top;\n",
       "    }\n",
       "</style>\n",
       "<table border=\"1\" class=\"dataframe\">\n",
       "  <thead>\n",
       "    <tr style=\"text-align: right;\">\n",
       "      <th></th>\n",
       "      <th>AUSAIR</th>\n",
       "      <th>GUINEARICE</th>\n",
       "      <th>AUSAIR_DIFF</th>\n",
       "      <th>GUINEARICE_DIFF</th>\n",
       "      <th>AUSAIR_2DIFF</th>\n",
       "      <th>GUINEARICE_2DIFF</th>\n",
       "    </tr>\n",
       "    <tr>\n",
       "      <th>YEAR</th>\n",
       "      <th></th>\n",
       "      <th></th>\n",
       "      <th></th>\n",
       "      <th></th>\n",
       "      <th></th>\n",
       "      <th></th>\n",
       "    </tr>\n",
       "  </thead>\n",
       "  <tbody>\n",
       "    <tr>\n",
       "      <th>1970-01-01</th>\n",
       "      <td>7.3187</td>\n",
       "      <td>0.311405</td>\n",
       "      <td>NaN</td>\n",
       "      <td>NaN</td>\n",
       "      <td>NaN</td>\n",
       "      <td>NaN</td>\n",
       "    </tr>\n",
       "    <tr>\n",
       "      <th>1971-01-01</th>\n",
       "      <td>7.3266</td>\n",
       "      <td>0.325180</td>\n",
       "      <td>0.0079</td>\n",
       "      <td>0.013775</td>\n",
       "      <td>NaN</td>\n",
       "      <td>NaN</td>\n",
       "    </tr>\n",
       "    <tr>\n",
       "      <th>1972-01-01</th>\n",
       "      <td>7.7956</td>\n",
       "      <td>0.339565</td>\n",
       "      <td>0.4690</td>\n",
       "      <td>0.014385</td>\n",
       "      <td>0.4611</td>\n",
       "      <td>0.00061</td>\n",
       "    </tr>\n",
       "    <tr>\n",
       "      <th>1973-01-01</th>\n",
       "      <td>9.3846</td>\n",
       "      <td>0.354580</td>\n",
       "      <td>1.5890</td>\n",
       "      <td>0.015015</td>\n",
       "      <td>1.1200</td>\n",
       "      <td>0.00063</td>\n",
       "    </tr>\n",
       "    <tr>\n",
       "      <th>1974-01-01</th>\n",
       "      <td>10.6647</td>\n",
       "      <td>0.370265</td>\n",
       "      <td>1.2801</td>\n",
       "      <td>0.015685</td>\n",
       "      <td>-0.3089</td>\n",
       "      <td>0.00067</td>\n",
       "    </tr>\n",
       "  </tbody>\n",
       "</table>\n",
       "</div>"
      ],
      "text/plain": [
       "             AUSAIR  GUINEARICE  AUSAIR_DIFF  GUINEARICE_DIFF  AUSAIR_2DIFF  \\\n",
       "YEAR                                                                          \n",
       "1970-01-01   7.3187    0.311405          NaN              NaN           NaN   \n",
       "1971-01-01   7.3266    0.325180       0.0079         0.013775           NaN   \n",
       "1972-01-01   7.7956    0.339565       0.4690         0.014385        0.4611   \n",
       "1973-01-01   9.3846    0.354580       1.5890         0.015015        1.1200   \n",
       "1974-01-01  10.6647    0.370265       1.2801         0.015685       -0.3089   \n",
       "\n",
       "            GUINEARICE_2DIFF  \n",
       "YEAR                          \n",
       "1970-01-01               NaN  \n",
       "1971-01-01               NaN  \n",
       "1972-01-01           0.00061  \n",
       "1973-01-01           0.00063  \n",
       "1974-01-01           0.00067  "
      ]
     },
     "execution_count": 8,
     "metadata": {},
     "output_type": "execute_result"
    }
   ],
   "source": [
    "# if we have to, we can also calculate a second difference\n",
    "# don't go beyond 2\n",
    "\n",
    "air['AUSAIR_2DIFF'] = air['AUSAIR_DIFF'] - air['AUSAIR_DIFF'].shift(1)  \n",
    "air['GUINEARICE_2DIFF'] = air['GUINEARICE_DIFF'] - air['GUINEARICE_DIFF'].shift(1)  \n",
    "air.head()\n"
   ]
  },
  {
   "cell_type": "code",
   "execution_count": 9,
   "metadata": {
    "collapsed": false
   },
   "outputs": [
    {
     "data": {
      "text/plain": [
       "array([<matplotlib.axes._subplots.AxesSubplot object at 0x000000F101B0B550>,\n",
       "       <matplotlib.axes._subplots.AxesSubplot object at 0x000000F101BBA6A0>,\n",
       "       <matplotlib.axes._subplots.AxesSubplot object at 0x000000F101C02CF8>,\n",
       "       <matplotlib.axes._subplots.AxesSubplot object at 0x000000F101C481D0>,\n",
       "       <matplotlib.axes._subplots.AxesSubplot object at 0x000000F101C93BE0>,\n",
       "       <matplotlib.axes._subplots.AxesSubplot object at 0x000000F101CD4A58>], dtype=object)"
      ]
     },
     "execution_count": 9,
     "metadata": {},
     "output_type": "execute_result"
    },
    {
     "data": {
      "image/png": "[encoded data removed]",
      "text/plain": [
       "<matplotlib.figure.Figure at 0xf101ae7f98>"
      ]
     },
     "metadata": {},
     "output_type": "display_data"
    }
   ],
   "source": [
    "\n",
    "air.plot(subplots=True)"
   ]
  },
  {
   "cell_type": "code",
   "execution_count": null,
   "metadata": {
    "collapsed": false
   },
   "outputs": [],
   "source": [
    "# ACF plots\n",
    "# the first two rows are missing, so skip those..\n",
    "\n",
    "fig = sm.graphics.tsa.plot_acf(air['AUSAIR_2DIFF'][2:], lags=30)\n",
    "fig = sm.graphics.tsa.plot_acf(air['GUINEARICE_2DIFF'][2:], lags=30)"
   ]
  },
  {
   "cell_type": "code",
   "execution_count": 10,
   "metadata": {
    "collapsed": false
   },
   "outputs": [
    {
     "name": "stdout",
     "output_type": "stream",
     "text": [
      "                            OLS Regression Results                            \n",
      "==============================================================================\n",
      "Dep. Variable:            AUSAIR_DIFF   R-squared:                       0.125\n",
      "Model:                            OLS   Adj. R-squared:                  0.102\n",
      "Method:                 Least Squares   F-statistic:                     5.295\n",
      "Date:                Fri, 27 Apr 2018   Prob (F-statistic):             0.0271\n",
      "Time:                        16:26:44   Log-Likelihood:                -70.079\n",
      "No. Observations:                  39   AIC:                             144.2\n",
      "Df Residuals:                      37   BIC:                             147.5\n",
      "Df Model:                           1                                         \n",
      "Covariance Type:            nonrobust                                         \n",
      "===================================================================================\n",
      "                      coef    std err          t      P>|t|      [0.025      0.975]\n",
      "-----------------------------------------------------------------------------------\n",
      "Intercept           0.5881      0.326      1.806      0.079      -0.072       1.248\n",
      "GUINEARICE_DIFF    16.6487      7.235      2.301      0.027       1.988      31.309\n",
      "==============================================================================\n",
      "Omnibus:                        6.783   Durbin-Watson:                   1.733\n",
      "Prob(Omnibus):                  0.034   Jarque-Bera (JB):               10.436\n",
      "Skew:                          -0.123   Prob(JB):                      0.00542\n",
      "Kurtosis:                       5.522   Cond. No.                         30.2\n",
      "==============================================================================\n",
      "\n",
      "Warnings:\n",
      "[1] Standard Errors assume that the covariance matrix of the errors is correctly specified.\n"
     ]
    }
   ],
   "source": [
    "# now what if we estimate the same model on the differenced data\n",
    "\n",
    "mod = smf.ols(formula='AUSAIR_DIFF ~ GUINEARICE_DIFF', data=air)\n",
    "res = mod.fit()\n",
    "print(res.summary())"
   ]
  },
  {
   "cell_type": "code",
   "execution_count": null,
   "metadata": {
    "collapsed": false
   },
   "outputs": [],
   "source": [
    "# now what if we estimate the same model on the second differenced data\n",
    "\n",
    "mod = smf.ols(formula='AUSAIR_2DIFF ~ GUINEARICE_2DIFF', data=air)\n",
    "res = mod.fit()\n",
    "print(res.summary())"
   ]
  },
  {
   "cell_type": "markdown",
   "metadata": {},
   "source": [
    "## Homework\n",
    "\n",
    "The data folder contains a time-series data set of ridership on the BART rail system from 2001 through 2015.  Estimate a regression model of the ridership (RIDERS) as a function of variables included in the data set.  Build as complete of a model as you can, but be sure you can explain it!"
   ]
  },
  {
   "cell_type": "code",
   "execution_count": null,
   "metadata": {
    "collapsed": true
   },
   "outputs": [],
   "source": []
  }
 ],
 "metadata": {
  "anaconda-cloud": {},
  "kernelspec": {
   "display_name": "Python [default]",
   "language": "python",
   "name": "python3"
  },
  "language_info": {
   "codemirror_mode": {
    "name": "ipython",
    "version": 3
   },
   "file_extension": ".py",
   "mimetype": "text/x-python",
   "name": "python",
   "nbconvert_exporter": "python",
   "pygments_lexer": "ipython3",
   "version": "3.5.2"
  }
 },
 "nbformat": 4,
 "nbformat_minor": 0
}
