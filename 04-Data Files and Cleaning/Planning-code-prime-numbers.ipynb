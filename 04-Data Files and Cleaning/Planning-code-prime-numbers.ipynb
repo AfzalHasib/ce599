{
 "cells": [
  {
   "cell_type": "markdown",
   "metadata": {},
   "source": [
    "# Planning Code: Prime Numbers Example"
   ]
  },
  {
   "cell_type": "markdown",
   "metadata": {},
   "source": [
    "Let's review the prime numbers example from the perspective of planning how to write your code, and how to build and test the code.  The process involves a combination of workplanning and problem solving in order to have a productive experience and generate clean, readable, code that is bug-free and is reusable."
   ]
  },
  {
   "cell_type": "markdown",
   "metadata": {},
   "source": [
    "The objective of this exercise is to enable you to assimilate the material we have covered so far to solve a novel problem.  You should have all the tools you need, by now, and just need a bit of practice at putting the pieces together to solve a problem.  The problem we want to solve is how to test whether a whole number is a prime number. Recall that a Prime Number can be divided evenly only by 1 or itself, and it must be a whole number greater than 1. \n",
    "\n",
    "So to have reusable code to test whether any number you want to test is a prime number you would need to do what? Write code that tests whether a number passed to a function meets these conditions.\n",
    "\n",
    "Here is a table of prime numbers up to 1000:"
   ]
  },
  {
   "cell_type": "raw",
   "metadata": {},
   "source": [
    "2\t3\t5\t7\t11\t13\t17\t19\t23\t29\t31\t37\t41\t43\t47\t53\t59\t61\t67\n",
    "71\t73\t79\t83\t89\t97\t101\t103\t107\t109\t113\t127\t131\t137\t139\t149\t151\t157\t163\n",
    "167\t173\t179\t181\t191\t193\t197\t199\t211\t223\t227\t229\t233\t239\t241\t251\t257\t263\t269\n",
    "271\t277\t281\t283\t293\t307\t311\t313\t317\t331\t337\t347\t349\t353\t359\t367\t373\t379\t383\n",
    "389\t397\t401\t409\t419\t421\t431\t433\t439\t443\t449\t457\t461\t463\t467\t479\t487\t491\t499\n",
    "503\t509\t521\t523\t541\t547\t557\t563\t569\t571\t577\t587\t593\t599\t601\t607\t613\t617\t619\n",
    "631\t641\t643\t647\t653\t659\t661\t673\t677\t683\t691\t701\t709\t719\t727\t733\t739\t743\t751\n",
    "757\t761\t769\t773\t787\t797\t809\t811\t821\t823\t827\t829\t839\t853\t857\t859\t863\t877\t881\n",
    "883\t887\t907\t911\t919\t929\t937\t941\t947\t953\t967\t971\t977\t983\t991\t997\t"
   ]
  },
  {
   "cell_type": "markdown",
   "metadata": {},
   "source": [
    "### Planning how to write the code"
   ]
  },
  {
   "cell_type": "markdown",
   "metadata": {},
   "source": [
    "One of the most difficult things about learning to program is to learn how to start.  What to do before you write the code, and how to work your way through the coding process.\n",
    "\n",
    "A good general idea is to think through the problem you want to solve first -- just conceptually.  How will you know you have solved it?  Are there tests that you can use to be sure?  Can you break the problem down into smaller components, and solve those sequentially?  This is a step that is conceptualizing your algorithm, or your plan for the code.\n",
    "\n",
    "What approach would you use to solve each of those components? Can you describe those steps in English? We call this step writing 'pseudo-code'\n",
    "\n",
    "Finally, there is the coding step. And the inevitable debugging step.  You really can't do one without the other.\n",
    "\n",
    "Generally, it is good practice to work your way through problems in this way, and write the code for each building block, testing it to be sure it works for all the kinds of cases you can imagine, then test them together.  You'll end up being more productive, and far less frustrated, using a systematic, problem-solving approach.  \n",
    "\n",
    "And by all means, don't try to tackle it all at once.  Below is an example of how to work through this process."
   ]
  },
  {
   "cell_type": "markdown",
   "metadata": {},
   "source": [
    "### Phase 1: Conceptual Plan"
   ]
  },
  {
   "cell_type": "markdown",
   "metadata": {},
   "source": [
    "What do we need to do to determine whether each number between 1 and 100 is a prime number?  "
   ]
  },
  {
   "cell_type": "markdown",
   "metadata": {},
   "source": [
    "### Phase 2: Pseudo-Code"
   ]
  },
  {
   "cell_type": "markdown",
   "metadata": {},
   "source": [
    "Let's fill this in, following our conceptual plan..."
   ]
  },
  {
   "cell_type": "markdown",
   "metadata": {},
   "source": [
    "### Phase 3: Code"
   ]
  },
  {
   "cell_type": "markdown",
   "metadata": {},
   "source": [
    "Generally, build the code one step at a time, and test that step.  Add comments to explain your logic.\n",
    "\n",
    "Do this on your own..."
   ]
  },
  {
   "cell_type": "code",
   "execution_count": 1,
   "metadata": {},
   "outputs": [
    {
     "name": "stdout",
     "output_type": "stream",
     "text": [
      "2 ,\n",
      "3 ,\n",
      "5 ,\n",
      "7 ,\n",
      "11 ,\n",
      "13 ,\n",
      "17 ,\n",
      "19 ,\n",
      "23 ,\n",
      "29 ,\n",
      "31 ,\n",
      "37 ,\n",
      "41 ,\n",
      "43 ,\n",
      "47 ,\n",
      "53 ,\n",
      "59 ,\n",
      "61 ,\n",
      "67 ,\n",
      "71 ,\n",
      "73 ,\n",
      "79 ,\n",
      "83 ,\n",
      "89 ,\n",
      "97\n",
      "101 ,\n",
      "103 ,\n",
      "107 ,\n",
      "109 ,\n",
      "113 ,\n",
      "127 ,\n",
      "131 ,\n",
      "137 ,\n",
      "139 ,\n",
      "149 ,\n",
      "151 ,\n",
      "157 ,\n",
      "163 ,\n",
      "167 ,\n",
      "173 ,\n",
      "179 ,\n",
      "181 ,\n",
      "191 ,\n",
      "193 ,\n",
      "197 ,\n",
      "199 ,\n",
      "211 ,\n",
      "223 ,\n",
      "227 ,\n",
      "229 ,\n",
      "233 ,\n",
      "239 ,\n",
      "241 ,\n",
      "251 ,\n",
      "257 ,\n",
      "263 ,\n",
      "269 ,\n",
      "271 ,\n",
      "277 ,\n",
      "281 ,\n",
      "283 ,\n",
      "293 ,\n",
      "307 ,\n",
      "311 ,\n",
      "313 ,\n",
      "317 ,\n",
      "331 ,\n",
      "337 ,\n",
      "347 ,\n",
      "349 ,\n",
      "353 ,\n",
      "359 ,\n",
      "367 ,\n",
      "373 ,\n",
      "379 ,\n",
      "383 ,\n",
      "389 ,\n",
      "397 ,\n",
      "401 ,\n",
      "409 ,\n",
      "419 ,\n",
      "421 ,\n",
      "431 ,\n",
      "433 ,\n",
      "439 ,\n",
      "443 ,\n",
      "449 ,\n",
      "457 ,\n",
      "461 ,\n",
      "463 ,\n",
      "467 ,\n",
      "479 ,\n",
      "487 ,\n",
      "491 ,\n",
      "499 ,\n",
      "503 ,\n",
      "509 ,\n",
      "521 ,\n",
      "523 ,\n",
      "541 ,\n",
      "547 ,\n",
      "557 ,\n",
      "563 ,\n",
      "569 ,\n",
      "571 ,\n",
      "577 ,\n",
      "587 ,\n",
      "593 ,\n",
      "599 ,\n",
      "601 ,\n",
      "607 ,\n",
      "613 ,\n",
      "617 ,\n",
      "619 ,\n",
      "631 ,\n",
      "641 ,\n",
      "643 ,\n",
      "647 ,\n",
      "653 ,\n",
      "659 ,\n",
      "661 ,\n",
      "673 ,\n",
      "677 ,\n",
      "683 ,\n",
      "691 ,\n",
      "701 ,\n",
      "709 ,\n",
      "719 ,\n",
      "727 ,\n",
      "733 ,\n",
      "739 ,\n",
      "743 ,\n",
      "751 ,\n",
      "757 ,\n",
      "761 ,\n",
      "769 ,\n",
      "773 ,\n",
      "787 ,\n",
      "797 ,\n",
      "809 ,\n",
      "811 ,\n",
      "821 ,\n",
      "823 ,\n",
      "827 ,\n",
      "829 ,\n",
      "839 ,\n",
      "853 ,\n",
      "857 ,\n",
      "859 ,\n",
      "863 ,\n",
      "877 ,\n",
      "881 ,\n",
      "883 ,\n",
      "887 ,\n",
      "907 ,\n",
      "911 ,\n",
      "919 ,\n",
      "929 ,\n",
      "937 ,\n",
      "941 ,\n",
      "947 ,\n",
      "953 ,\n",
      "967 ,\n",
      "971 ,\n",
      "977 ,\n",
      "983 ,\n",
      "991 ,\n",
      "997 ,\n"
     ]
    }
   ],
   "source": [
    "#prime numbers between 1 and 1000\n",
    "def is_prime(n):\n",
    "    status = True\n",
    "    if n < 2:\n",
    "        status = False\n",
    "    else:\n",
    "        for i in range(2,n):\n",
    "            if n % i == 0:\n",
    "                status = False\n",
    "    return status\n",
    "\n",
    "for n in range(1,1001):\n",
    "    if is_prime(n):\n",
    "        if n==97:\n",
    "            print (n)\n",
    "        else:\n",
    "            print (n,\",\")\n"
   ]
  },
  {
   "cell_type": "code",
   "execution_count": null,
   "metadata": {},
   "outputs": [],
   "source": []
  }
 ],
 "metadata": {
  "anaconda-cloud": {},
  "kernelspec": {
   "display_name": "Python 3",
   "language": "python",
   "name": "python3"
  },
  "language_info": {
   "codemirror_mode": {
    "name": "ipython",
    "version": 3
   },
   "file_extension": ".py",
   "mimetype": "text/x-python",
   "name": "python",
   "nbconvert_exporter": "python",
   "pygments_lexer": "ipython3",
   "version": "3.7.1"
  }
 },
 "nbformat": 4,
 "nbformat_minor": 1
}
