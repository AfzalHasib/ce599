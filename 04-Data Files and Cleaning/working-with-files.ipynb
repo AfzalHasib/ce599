{
 "cells": [
  {
   "cell_type": "markdown",
   "metadata": {},
   "source": [
    "# Working With Files and Doing Data Cleaning"
   ]
  },
  {
   "cell_type": "markdown",
   "metadata": {},
   "source": [
    "## First, a Review on Planning Your Programs\n",
    "\n",
    "One of the most difficult things about learning to program is to learn how to start.  What to do before you write the code, and how to work your way through the coding process.\n",
    "\n",
    "A good general idea is to think through the problem you want to solve first -- just conceptually.  How will you know you have solved it?  Are there tests that you can use to be sure?  Can you break the problem down into smaller components, and solve those sequentially?  This is a step that is conceptualizing your algorithm, or your plan for the code.\n",
    "\n",
    "What approach would you use to solve each of those components? Can you describe those steps in English? We call this step writing 'pseudo-code'\n",
    "\n",
    "Finally, there is the coding step. And the inevitable debugging step.  You really can't do one without the other.\n",
    "\n",
    "Generally, it is good practice to work your way through problems in this way, and write the code for each building block, testing it to be sure it works for all the kinds of cases you can imagine, then test them together.  You'll end up being more productive, and far less frustrated, using a systematic, problem-solving approach.  \n",
    "\n",
    "And by all means, don't try to tackle it all at once.  Below is an example of how to work through this process."
   ]
  },
  {
   "cell_type": "markdown",
   "metadata": {},
   "source": [
    "### Phase 1: Conceptual Plan\n",
    "\n",
    "What do we need to do to determine whether each number between 1 and 100 is a prime number?\n",
    "\n",
    "1. We need to see if any given number can be divided evenly by any other number besides 1 and itself. \n",
    "2. We need to test this for every number between 1 and 100\n",
    "\n",
    "### Phase 2: Pseudo-Code\n",
    "\n",
    "1. Write a function (isprime) to test whether a number passed to it as an argument (x) is a prime number.\n",
    "Iterate over all values from x to 1.\n",
    "At each iteration, test whether the original x is evenly divisible by this iteration value.\n",
    "Keep track of how many times you get an evenly divisible result.\n",
    "If the result is more than 2, call x a prime number.\n",
    "\n",
    "2. Write a loop from 1 to 100, call this value (z)\n",
    "Within the loop, call function isprime, and pass it the value of z.\n",
    "Print the list of prime numbers.\n",
    "\n",
    "### Phase 3: Code Incrementally, Test, and Document\n",
    "\n",
    "Generally, build the code one step at a time, and test that step.  Add comments to explain your logic.  Make sure you include narrative in your assignments explaining your reasoning, and adding explanatory comments in the code every few lines to explain what you are doing in each part."
   ]
  },
  {
   "cell_type": "markdown",
   "metadata": {},
   "source": [
    "## Working With Files\n",
    "\n",
    "Most data you might want to work with is likely to be in some kind of file.  You often will want to work with data in comma separated text files, or in spreadsheet tables, or in tables stored in a database.  And you will increasingly find data online, not only as text or spreadsheets to download, but as Open Data APIs, returned from a web service as a JSON object.  This session covers how to work with a variety of file formats in Python, and how to begin processing data in files to clean data."
   ]
  },
  {
   "cell_type": "markdown",
   "metadata": {},
   "source": [
    "### Basics of Reading and Writing Files in Python\n",
    "\n",
    "Let's start by creating a simple file, and then reading it back.  We will use 'open' to open a file we will call 'tempfile' in 'write' (w) mode.  We will assign the file object, which is **iterable**, to an object we will arbitrarily call 'f'."
   ]
  },
  {
   "cell_type": "code",
   "execution_count": 3,
   "metadata": {},
   "outputs": [],
   "source": [
    "f = open('tempfile.txt', 'w')\n",
    "for i in range(20):\n",
    "    f.write('this is line ' + str(i) + '\\n')\n",
    "f.close()\n",
    "#how to open a .txt file"
   ]
  },
  {
   "cell_type": "markdown",
   "metadata": {},
   "source": [
    "You can open the text file in an editor to verify that this code wrote the file as expected.  Now open the file we just created in Python, in read mode (r)"
   ]
  },
  {
   "cell_type": "code",
   "execution_count": 6,
   "metadata": {},
   "outputs": [],
   "source": [
    "f = open('tempfile.txt', 'r')"
   ]
  },
  {
   "cell_type": "markdown",
   "metadata": {},
   "source": [
    "The first method to read a file is to read it in all at once, with a read() method. Here we load the whole file in memory and assign it to a. Note that we will re-open the file here to start from the beginning. Otherwise it will be positioned at the end of the file and give us back an empty string. "
   ]
  },
  {
   "cell_type": "code",
   "execution_count": 7,
   "metadata": {},
   "outputs": [
    {
     "data": {
      "text/plain": [
       "'this is line 0\\nthis is line 1\\nthis is line 2\\nthis is line 3\\nthis is line 4\\nthis is line 5\\nthis is line 6\\nthis is line 7\\nthis is line 8\\nthis is line 9\\nthis is line 10\\nthis is line 11\\nthis is line 12\\nthis is line 13\\nthis is line 14\\nthis is line 15\\nthis is line 16\\nthis is line 17\\nthis is line 18\\nthis is line 19\\nthis is line 20\\nthis is line 21\\nthis is line 22\\nthis is line 23\\nthis is line 24\\nthis is line 25\\nthis is line 26\\nthis is line 27\\nthis is line 28\\nthis is line 29\\nthis is line 30\\nthis is line 31\\nthis is line 32\\nthis is line 33\\nthis is line 34\\nthis is line 35\\nthis is line 36\\nthis is line 37\\nthis is line 38\\nthis is line 39\\nthis is line 40\\nthis is line 41\\nthis is line 42\\nthis is line 43\\nthis is line 44\\nthis is line 45\\nthis is line 46\\nthis is line 47\\nthis is line 48\\nthis is line 49\\nthis is line 50\\nthis is line 51\\nthis is line 52\\nthis is line 53\\nthis is line 54\\nthis is line 55\\nthis is line 56\\nthis is line 57\\nthis is line 58\\nthis is line 59\\nthis is line 60\\nthis is line 61\\nthis is line 62\\nthis is line 63\\nthis is line 64\\nthis is line 65\\nthis is line 66\\nthis is line 67\\nthis is line 68\\nthis is line 69\\nthis is line 70\\nthis is line 71\\nthis is line 72\\nthis is line 73\\nthis is line 74\\nthis is line 75\\nthis is line 76\\nthis is line 77\\nthis is line 78\\nthis is line 79\\nthis is line 80\\nthis is line 81\\nthis is line 82\\nthis is line 83\\nthis is line 84\\nthis is line 85\\nthis is line 86\\nthis is line 87\\nthis is line 88\\nthis is line 89\\nthis is line 90\\nthis is line 91\\nthis is line 92\\nthis is line 93\\nthis is line 94\\nthis is line 95\\nthis is line 96\\nthis is line 97\\nthis is line 98\\nthis is line 99\\nthis is line 100\\nthis is line 101\\nthis is line 102\\nthis is line 103\\nthis is line 104\\nthis is line 105\\nthis is line 106\\nthis is line 107\\nthis is line 108\\nthis is line 109\\nthis is line 110\\nthis is line 111\\nthis is line 112\\nthis is line 113\\nthis is line 114\\nthis is line 115\\nthis is line 116\\nthis is line 117\\nthis is line 118\\nthis is line 119\\n'"
      ]
     },
     "execution_count": 7,
     "metadata": {},
     "output_type": "execute_result"
    }
   ],
   "source": [
    "f = open('tempfile.txt', 'r')\n",
    "a = f.read()\n",
    "a"
   ]
  },
  {
   "cell_type": "raw",
   "metadata": {},
   "source": [
    "Note that when we use read() it creates a string object.  The whole file is loaded into one big string.  Sometimes this may be useful, but often it is not the best way to load a file."
   ]
  },
  {
   "cell_type": "code",
   "execution_count": 8,
   "metadata": {},
   "outputs": [
    {
     "data": {
      "text/plain": [
       "str"
      ]
     },
     "execution_count": 8,
     "metadata": {},
     "output_type": "execute_result"
    }
   ],
   "source": [
    "type(a)"
   ]
  },
  {
   "cell_type": "markdown",
   "metadata": {},
   "source": [
    "An alternative approach is to step through reading each line of the file with the readline() method.  Notice that each time you execute this it advances to the next line.  Each line is read into a string object.  In this case we are not doing anything with that object except printing it."
   ]
  },
  {
   "cell_type": "code",
   "execution_count": 9,
   "metadata": {},
   "outputs": [
    {
     "name": "stdout",
     "output_type": "stream",
     "text": [
      "this is line 0\n",
      "\n",
      "this is line 1\n",
      "\n"
     ]
    }
   ],
   "source": [
    "f = open('tempfile.txt', 'r')\n",
    "print(f.readline())\n",
    "print(f.readline())"
   ]
  },
  {
   "cell_type": "markdown",
   "metadata": {},
   "source": [
    "Here is another way to loop through the lines of the file and print them all out. Notice that printing the lines suppresses the quotes and the newline string."
   ]
  },
  {
   "cell_type": "code",
   "execution_count": 10,
   "metadata": {},
   "outputs": [
    {
     "name": "stdout",
     "output_type": "stream",
     "text": [
      "this is line 0\n",
      "this is line 1\n",
      "this is line 2\n",
      "this is line 3\n",
      "this is line 4\n",
      "this is line 5\n",
      "this is line 6\n",
      "this is line 7\n",
      "this is line 8\n",
      "this is line 9\n",
      "this is line 10\n",
      "this is line 11\n",
      "this is line 12\n",
      "this is line 13\n",
      "this is line 14\n",
      "this is line 15\n",
      "this is line 16\n",
      "this is line 17\n",
      "this is line 18\n",
      "this is line 19\n",
      "this is line 20\n",
      "this is line 21\n",
      "this is line 22\n",
      "this is line 23\n",
      "this is line 24\n",
      "this is line 25\n",
      "this is line 26\n",
      "this is line 27\n",
      "this is line 28\n",
      "this is line 29\n",
      "this is line 30\n",
      "this is line 31\n",
      "this is line 32\n",
      "this is line 33\n",
      "this is line 34\n",
      "this is line 35\n",
      "this is line 36\n",
      "this is line 37\n",
      "this is line 38\n",
      "this is line 39\n",
      "this is line 40\n",
      "this is line 41\n",
      "this is line 42\n",
      "this is line 43\n",
      "this is line 44\n",
      "this is line 45\n",
      "this is line 46\n",
      "this is line 47\n",
      "this is line 48\n",
      "this is line 49\n",
      "this is line 50\n",
      "this is line 51\n",
      "this is line 52\n",
      "this is line 53\n",
      "this is line 54\n",
      "this is line 55\n",
      "this is line 56\n",
      "this is line 57\n",
      "this is line 58\n",
      "this is line 59\n",
      "this is line 60\n",
      "this is line 61\n",
      "this is line 62\n",
      "this is line 63\n",
      "this is line 64\n",
      "this is line 65\n",
      "this is line 66\n",
      "this is line 67\n",
      "this is line 68\n",
      "this is line 69\n",
      "this is line 70\n",
      "this is line 71\n",
      "this is line 72\n",
      "this is line 73\n",
      "this is line 74\n",
      "this is line 75\n",
      "this is line 76\n",
      "this is line 77\n",
      "this is line 78\n",
      "this is line 79\n",
      "this is line 80\n",
      "this is line 81\n",
      "this is line 82\n",
      "this is line 83\n",
      "this is line 84\n",
      "this is line 85\n",
      "this is line 86\n",
      "this is line 87\n",
      "this is line 88\n",
      "this is line 89\n",
      "this is line 90\n",
      "this is line 91\n",
      "this is line 92\n",
      "this is line 93\n",
      "this is line 94\n",
      "this is line 95\n",
      "this is line 96\n",
      "this is line 97\n",
      "this is line 98\n",
      "this is line 99\n",
      "this is line 100\n",
      "this is line 101\n",
      "this is line 102\n",
      "this is line 103\n",
      "this is line 104\n",
      "this is line 105\n",
      "this is line 106\n",
      "this is line 107\n",
      "this is line 108\n",
      "this is line 109\n",
      "this is line 110\n",
      "this is line 111\n",
      "this is line 112\n",
      "this is line 113\n",
      "this is line 114\n",
      "this is line 115\n",
      "this is line 116\n",
      "this is line 117\n",
      "this is line 118\n",
      "this is line 119\n"
     ]
    }
   ],
   "source": [
    "f = open('tempfile.txt', 'r')\n",
    "for line in f:\n",
    "    print(line, end='')"
   ]
  },
  {
   "cell_type": "markdown",
   "metadata": {},
   "source": [
    "The plural version of the readline() method generates a list of the lines in a file, with a string containing each line of the file.  Notice that this list contains the raw text contents, including the newline string '\\n'."
   ]
  },
  {
   "cell_type": "code",
   "execution_count": 11,
   "metadata": {},
   "outputs": [
    {
     "data": {
      "text/plain": [
       "['this is line 0\\n',\n",
       " 'this is line 1\\n',\n",
       " 'this is line 2\\n',\n",
       " 'this is line 3\\n',\n",
       " 'this is line 4\\n',\n",
       " 'this is line 5\\n',\n",
       " 'this is line 6\\n',\n",
       " 'this is line 7\\n',\n",
       " 'this is line 8\\n',\n",
       " 'this is line 9\\n',\n",
       " 'this is line 10\\n',\n",
       " 'this is line 11\\n',\n",
       " 'this is line 12\\n',\n",
       " 'this is line 13\\n',\n",
       " 'this is line 14\\n',\n",
       " 'this is line 15\\n',\n",
       " 'this is line 16\\n',\n",
       " 'this is line 17\\n',\n",
       " 'this is line 18\\n',\n",
       " 'this is line 19\\n',\n",
       " 'this is line 20\\n',\n",
       " 'this is line 21\\n',\n",
       " 'this is line 22\\n',\n",
       " 'this is line 23\\n',\n",
       " 'this is line 24\\n',\n",
       " 'this is line 25\\n',\n",
       " 'this is line 26\\n',\n",
       " 'this is line 27\\n',\n",
       " 'this is line 28\\n',\n",
       " 'this is line 29\\n',\n",
       " 'this is line 30\\n',\n",
       " 'this is line 31\\n',\n",
       " 'this is line 32\\n',\n",
       " 'this is line 33\\n',\n",
       " 'this is line 34\\n',\n",
       " 'this is line 35\\n',\n",
       " 'this is line 36\\n',\n",
       " 'this is line 37\\n',\n",
       " 'this is line 38\\n',\n",
       " 'this is line 39\\n',\n",
       " 'this is line 40\\n',\n",
       " 'this is line 41\\n',\n",
       " 'this is line 42\\n',\n",
       " 'this is line 43\\n',\n",
       " 'this is line 44\\n',\n",
       " 'this is line 45\\n',\n",
       " 'this is line 46\\n',\n",
       " 'this is line 47\\n',\n",
       " 'this is line 48\\n',\n",
       " 'this is line 49\\n',\n",
       " 'this is line 50\\n',\n",
       " 'this is line 51\\n',\n",
       " 'this is line 52\\n',\n",
       " 'this is line 53\\n',\n",
       " 'this is line 54\\n',\n",
       " 'this is line 55\\n',\n",
       " 'this is line 56\\n',\n",
       " 'this is line 57\\n',\n",
       " 'this is line 58\\n',\n",
       " 'this is line 59\\n',\n",
       " 'this is line 60\\n',\n",
       " 'this is line 61\\n',\n",
       " 'this is line 62\\n',\n",
       " 'this is line 63\\n',\n",
       " 'this is line 64\\n',\n",
       " 'this is line 65\\n',\n",
       " 'this is line 66\\n',\n",
       " 'this is line 67\\n',\n",
       " 'this is line 68\\n',\n",
       " 'this is line 69\\n',\n",
       " 'this is line 70\\n',\n",
       " 'this is line 71\\n',\n",
       " 'this is line 72\\n',\n",
       " 'this is line 73\\n',\n",
       " 'this is line 74\\n',\n",
       " 'this is line 75\\n',\n",
       " 'this is line 76\\n',\n",
       " 'this is line 77\\n',\n",
       " 'this is line 78\\n',\n",
       " 'this is line 79\\n',\n",
       " 'this is line 80\\n',\n",
       " 'this is line 81\\n',\n",
       " 'this is line 82\\n',\n",
       " 'this is line 83\\n',\n",
       " 'this is line 84\\n',\n",
       " 'this is line 85\\n',\n",
       " 'this is line 86\\n',\n",
       " 'this is line 87\\n',\n",
       " 'this is line 88\\n',\n",
       " 'this is line 89\\n',\n",
       " 'this is line 90\\n',\n",
       " 'this is line 91\\n',\n",
       " 'this is line 92\\n',\n",
       " 'this is line 93\\n',\n",
       " 'this is line 94\\n',\n",
       " 'this is line 95\\n',\n",
       " 'this is line 96\\n',\n",
       " 'this is line 97\\n',\n",
       " 'this is line 98\\n',\n",
       " 'this is line 99\\n',\n",
       " 'this is line 100\\n',\n",
       " 'this is line 101\\n',\n",
       " 'this is line 102\\n',\n",
       " 'this is line 103\\n',\n",
       " 'this is line 104\\n',\n",
       " 'this is line 105\\n',\n",
       " 'this is line 106\\n',\n",
       " 'this is line 107\\n',\n",
       " 'this is line 108\\n',\n",
       " 'this is line 109\\n',\n",
       " 'this is line 110\\n',\n",
       " 'this is line 111\\n',\n",
       " 'this is line 112\\n',\n",
       " 'this is line 113\\n',\n",
       " 'this is line 114\\n',\n",
       " 'this is line 115\\n',\n",
       " 'this is line 116\\n',\n",
       " 'this is line 117\\n',\n",
       " 'this is line 118\\n',\n",
       " 'this is line 119\\n']"
      ]
     },
     "execution_count": 11,
     "metadata": {},
     "output_type": "execute_result"
    }
   ],
   "source": [
    "f = open('tempfile.txt', 'r')\n",
    "a = f.readlines()\n",
    "a"
   ]
  },
  {
   "cell_type": "markdown",
   "metadata": {},
   "source": [
    "Using **with** is a handy way to open a file, load its data, and automatically close the file."
   ]
  },
  {
   "cell_type": "code",
   "execution_count": 12,
   "metadata": {},
   "outputs": [
    {
     "name": "stdout",
     "output_type": "stream",
     "text": [
      "this is line 0\n",
      "this is line 1\n",
      "this is line 2\n",
      "this is line 3\n",
      "this is line 4\n",
      "this is line 5\n",
      "this is line 6\n",
      "this is line 7\n",
      "this is line 8\n",
      "this is line 9\n",
      "this is line 10\n",
      "this is line 11\n",
      "this is line 12\n",
      "this is line 13\n",
      "this is line 14\n",
      "this is line 15\n",
      "this is line 16\n",
      "this is line 17\n",
      "this is line 18\n",
      "this is line 19\n",
      "this is line 20\n",
      "this is line 21\n",
      "this is line 22\n",
      "this is line 23\n",
      "this is line 24\n",
      "this is line 25\n",
      "this is line 26\n",
      "this is line 27\n",
      "this is line 28\n",
      "this is line 29\n",
      "this is line 30\n",
      "this is line 31\n",
      "this is line 32\n",
      "this is line 33\n",
      "this is line 34\n",
      "this is line 35\n",
      "this is line 36\n",
      "this is line 37\n",
      "this is line 38\n",
      "this is line 39\n",
      "this is line 40\n",
      "this is line 41\n",
      "this is line 42\n",
      "this is line 43\n",
      "this is line 44\n",
      "this is line 45\n",
      "this is line 46\n",
      "this is line 47\n",
      "this is line 48\n",
      "this is line 49\n",
      "this is line 50\n",
      "this is line 51\n",
      "this is line 52\n",
      "this is line 53\n",
      "this is line 54\n",
      "this is line 55\n",
      "this is line 56\n",
      "this is line 57\n",
      "this is line 58\n",
      "this is line 59\n",
      "this is line 60\n",
      "this is line 61\n",
      "this is line 62\n",
      "this is line 63\n",
      "this is line 64\n",
      "this is line 65\n",
      "this is line 66\n",
      "this is line 67\n",
      "this is line 68\n",
      "this is line 69\n",
      "this is line 70\n",
      "this is line 71\n",
      "this is line 72\n",
      "this is line 73\n",
      "this is line 74\n",
      "this is line 75\n",
      "this is line 76\n",
      "this is line 77\n",
      "this is line 78\n",
      "this is line 79\n",
      "this is line 80\n",
      "this is line 81\n",
      "this is line 82\n",
      "this is line 83\n",
      "this is line 84\n",
      "this is line 85\n",
      "this is line 86\n",
      "this is line 87\n",
      "this is line 88\n",
      "this is line 89\n",
      "this is line 90\n",
      "this is line 91\n",
      "this is line 92\n",
      "this is line 93\n",
      "this is line 94\n",
      "this is line 95\n",
      "this is line 96\n",
      "this is line 97\n",
      "this is line 98\n",
      "this is line 99\n",
      "this is line 100\n",
      "this is line 101\n",
      "this is line 102\n",
      "this is line 103\n",
      "this is line 104\n",
      "this is line 105\n",
      "this is line 106\n",
      "this is line 107\n",
      "this is line 108\n",
      "this is line 109\n",
      "this is line 110\n",
      "this is line 111\n",
      "this is line 112\n",
      "this is line 113\n",
      "this is line 114\n",
      "this is line 115\n",
      "this is line 116\n",
      "this is line 117\n",
      "this is line 118\n",
      "this is line 119\n",
      "\n"
     ]
    },
    {
     "data": {
      "text/plain": [
       "True"
      ]
     },
     "execution_count": 12,
     "metadata": {},
     "output_type": "execute_result"
    }
   ],
   "source": [
    "with open('tempfile.txt', 'r') as f:\n",
    "    read_data = f.read()\n",
    "print(read_data)\n",
    "f.closed\n"
   ]
  },
  {
   "cell_type": "markdown",
   "metadata": {},
   "source": [
    "### Working with JSON\n",
    "\n",
    "JSON (JavaScript Object Notation) is a common format for data accessed from a web browser, which is generally running JavaScript.\n",
    "\n",
    "The json dumps() method converts Python objects to JSON format, using the counterpart format for each data type, as in the table below."
   ]
  },
  {
   "cell_type": "raw",
   "metadata": {},
   "source": [
    "\n",
    "Python\t       JSON\n",
    "dict\t       object\n",
    "list, tuple\t   array\n",
    "str\t           string\n",
    "int, float     number\n",
    "True\t       true\n",
    "False\t       false\n",
    "None\t       null"
   ]
  },
  {
   "cell_type": "code",
   "execution_count": 13,
   "metadata": {},
   "outputs": [
    {
     "data": {
      "text/plain": [
       "'[1, 2, 3]'"
      ]
     },
     "execution_count": 13,
     "metadata": {},
     "output_type": "execute_result"
    }
   ],
   "source": [
    "import json\n",
    "\n",
    "json.dumps([1,2,3])"
   ]
  },
  {
   "cell_type": "markdown",
   "metadata": {},
   "source": [
    "Notice that objects can be complex, containing multiple types of data, and still be easily translated between Python objects and JSON format.  The following example converts a Python list, containing one element that is a dictionary, to JSON."
   ]
  },
  {
   "cell_type": "code",
   "execution_count": 14,
   "metadata": {},
   "outputs": [
    {
     "data": {
      "text/plain": [
       "'[1, 2, 3, {\"foo\": \"bar\"}]'"
      ]
     },
     "execution_count": 14,
     "metadata": {},
     "output_type": "execute_result"
    }
   ],
   "source": [
    "json.dumps([1,2,3,{'foo': 'bar'}])"
   ]
  },
  {
   "cell_type": "markdown",
   "metadata": {},
   "source": [
    "Below we convert the contents of tempfile to a json object."
   ]
  },
  {
   "cell_type": "code",
   "execution_count": 15,
   "metadata": {},
   "outputs": [
    {
     "data": {
      "text/plain": [
       "'[\"this is line 0\\\\n\", \"this is line 1\\\\n\", \"this is line 2\\\\n\", \"this is line 3\\\\n\", \"this is line 4\\\\n\", \"this is line 5\\\\n\", \"this is line 6\\\\n\", \"this is line 7\\\\n\", \"this is line 8\\\\n\", \"this is line 9\\\\n\", \"this is line 10\\\\n\", \"this is line 11\\\\n\", \"this is line 12\\\\n\", \"this is line 13\\\\n\", \"this is line 14\\\\n\", \"this is line 15\\\\n\", \"this is line 16\\\\n\", \"this is line 17\\\\n\", \"this is line 18\\\\n\", \"this is line 19\\\\n\", \"this is line 20\\\\n\", \"this is line 21\\\\n\", \"this is line 22\\\\n\", \"this is line 23\\\\n\", \"this is line 24\\\\n\", \"this is line 25\\\\n\", \"this is line 26\\\\n\", \"this is line 27\\\\n\", \"this is line 28\\\\n\", \"this is line 29\\\\n\", \"this is line 30\\\\n\", \"this is line 31\\\\n\", \"this is line 32\\\\n\", \"this is line 33\\\\n\", \"this is line 34\\\\n\", \"this is line 35\\\\n\", \"this is line 36\\\\n\", \"this is line 37\\\\n\", \"this is line 38\\\\n\", \"this is line 39\\\\n\", \"this is line 40\\\\n\", \"this is line 41\\\\n\", \"this is line 42\\\\n\", \"this is line 43\\\\n\", \"this is line 44\\\\n\", \"this is line 45\\\\n\", \"this is line 46\\\\n\", \"this is line 47\\\\n\", \"this is line 48\\\\n\", \"this is line 49\\\\n\", \"this is line 50\\\\n\", \"this is line 51\\\\n\", \"this is line 52\\\\n\", \"this is line 53\\\\n\", \"this is line 54\\\\n\", \"this is line 55\\\\n\", \"this is line 56\\\\n\", \"this is line 57\\\\n\", \"this is line 58\\\\n\", \"this is line 59\\\\n\", \"this is line 60\\\\n\", \"this is line 61\\\\n\", \"this is line 62\\\\n\", \"this is line 63\\\\n\", \"this is line 64\\\\n\", \"this is line 65\\\\n\", \"this is line 66\\\\n\", \"this is line 67\\\\n\", \"this is line 68\\\\n\", \"this is line 69\\\\n\", \"this is line 70\\\\n\", \"this is line 71\\\\n\", \"this is line 72\\\\n\", \"this is line 73\\\\n\", \"this is line 74\\\\n\", \"this is line 75\\\\n\", \"this is line 76\\\\n\", \"this is line 77\\\\n\", \"this is line 78\\\\n\", \"this is line 79\\\\n\", \"this is line 80\\\\n\", \"this is line 81\\\\n\", \"this is line 82\\\\n\", \"this is line 83\\\\n\", \"this is line 84\\\\n\", \"this is line 85\\\\n\", \"this is line 86\\\\n\", \"this is line 87\\\\n\", \"this is line 88\\\\n\", \"this is line 89\\\\n\", \"this is line 90\\\\n\", \"this is line 91\\\\n\", \"this is line 92\\\\n\", \"this is line 93\\\\n\", \"this is line 94\\\\n\", \"this is line 95\\\\n\", \"this is line 96\\\\n\", \"this is line 97\\\\n\", \"this is line 98\\\\n\", \"this is line 99\\\\n\", \"this is line 100\\\\n\", \"this is line 101\\\\n\", \"this is line 102\\\\n\", \"this is line 103\\\\n\", \"this is line 104\\\\n\", \"this is line 105\\\\n\", \"this is line 106\\\\n\", \"this is line 107\\\\n\", \"this is line 108\\\\n\", \"this is line 109\\\\n\", \"this is line 110\\\\n\", \"this is line 111\\\\n\", \"this is line 112\\\\n\", \"this is line 113\\\\n\", \"this is line 114\\\\n\", \"this is line 115\\\\n\", \"this is line 116\\\\n\", \"this is line 117\\\\n\", \"this is line 118\\\\n\", \"this is line 119\\\\n\"]'"
      ]
     },
     "execution_count": 15,
     "metadata": {},
     "output_type": "execute_result"
    }
   ],
   "source": [
    "f = open('tempfile.txt', 'r')\n",
    "\n",
    "x = json.dumps(f.readlines())\n",
    "x"
   ]
  },
  {
   "cell_type": "markdown",
   "metadata": {},
   "source": [
    "With the dump() method, we can write JSON data to a file.  Here we read tempfile, and create a new JSON formatted file into which we write the contents of tempfile."
   ]
  },
  {
   "cell_type": "code",
   "execution_count": 16,
   "metadata": {},
   "outputs": [],
   "source": [
    "f = open('tempfile.txt', 'r')\n",
    "j = open('temp.json', 'w')\n",
    "json.dump(f.readlines(), j)"
   ]
  },
  {
   "cell_type": "markdown",
   "metadata": {},
   "source": [
    "Using the load() method, we can read JSON formatted data and load it into a Python object."
   ]
  },
  {
   "cell_type": "code",
   "execution_count": 17,
   "metadata": {},
   "outputs": [
    {
     "data": {
      "text/plain": [
       "['this is line 0\\n',\n",
       " 'this is line 1\\n',\n",
       " 'this is line 2\\n',\n",
       " 'this is line 3\\n',\n",
       " 'this is line 4\\n',\n",
       " 'this is line 5\\n',\n",
       " 'this is line 6\\n',\n",
       " 'this is line 7\\n',\n",
       " 'this is line 8\\n',\n",
       " 'this is line 9\\n',\n",
       " 'this is line 10\\n',\n",
       " 'this is line 11\\n',\n",
       " 'this is line 12\\n',\n",
       " 'this is line 13\\n',\n",
       " 'this is line 14\\n',\n",
       " 'this is line 15\\n',\n",
       " 'this is line 16\\n',\n",
       " 'this is line 17\\n',\n",
       " 'this is line 18\\n',\n",
       " 'this is line 19\\n',\n",
       " 'this is line 20\\n',\n",
       " 'this is line 21\\n',\n",
       " 'this is line 22\\n',\n",
       " 'this is line 23\\n',\n",
       " 'this is line 24\\n',\n",
       " 'this is line 25\\n',\n",
       " 'this is line 26\\n',\n",
       " 'this is line 27\\n',\n",
       " 'this is line 28\\n',\n",
       " 'this is line 29\\n',\n",
       " 'this is line 30\\n',\n",
       " 'this is line 31\\n',\n",
       " 'this is line 32\\n',\n",
       " 'this is line 33\\n',\n",
       " 'this is line 34\\n',\n",
       " 'this is line 35\\n',\n",
       " 'this is line 36\\n',\n",
       " 'this is line 37\\n',\n",
       " 'this is line 38\\n',\n",
       " 'this is line 39\\n',\n",
       " 'this is line 40\\n',\n",
       " 'this is line 41\\n',\n",
       " 'this is line 42\\n',\n",
       " 'this is line 43\\n',\n",
       " 'this is line 44\\n',\n",
       " 'this is line 45\\n',\n",
       " 'this is line 46\\n',\n",
       " 'this is line 47\\n',\n",
       " 'this is line 48\\n',\n",
       " 'this is line 49\\n',\n",
       " 'this is line 50\\n',\n",
       " 'this is line 51\\n',\n",
       " 'this is line 52\\n',\n",
       " 'this is line 53\\n',\n",
       " 'this is line 54\\n',\n",
       " 'this is line 55\\n',\n",
       " 'this is line 56\\n',\n",
       " 'this is line 57\\n',\n",
       " 'this is line 58\\n',\n",
       " 'this is line 59\\n',\n",
       " 'this is line 60\\n',\n",
       " 'this is line 61\\n',\n",
       " 'this is line 62\\n',\n",
       " 'this is line 63\\n',\n",
       " 'this is line 64\\n',\n",
       " 'this is line 65\\n',\n",
       " 'this is line 66\\n',\n",
       " 'this is line 67\\n',\n",
       " 'this is line 68\\n',\n",
       " 'this is line 69\\n',\n",
       " 'this is line 70\\n',\n",
       " 'this is line 71\\n',\n",
       " 'this is line 72\\n',\n",
       " 'this is line 73\\n',\n",
       " 'this is line 74\\n',\n",
       " 'this is line 75\\n',\n",
       " 'this is line 76\\n',\n",
       " 'this is line 77\\n',\n",
       " 'this is line 78\\n',\n",
       " 'this is line 79\\n',\n",
       " 'this is line 80\\n',\n",
       " 'this is line 81\\n',\n",
       " 'this is line 82\\n',\n",
       " 'this is line 83\\n',\n",
       " 'this is line 84\\n',\n",
       " 'this is line 85\\n',\n",
       " 'this is line 86\\n',\n",
       " 'this is line 87\\n',\n",
       " 'this is line 88\\n',\n",
       " 'this is line 89\\n',\n",
       " 'this is line 90\\n',\n",
       " 'this is line 91\\n',\n",
       " 'this is line 92\\n',\n",
       " 'this is line 93\\n',\n",
       " 'this is line 94\\n',\n",
       " 'this is line 95\\n',\n",
       " 'this is line 96\\n',\n",
       " 'this is line 97\\n',\n",
       " 'this is line 98\\n',\n",
       " 'this is line 99\\n',\n",
       " 'this is line 100\\n',\n",
       " 'this is line 101\\n',\n",
       " 'this is line 102\\n',\n",
       " 'this is line 103\\n',\n",
       " 'this is line 104\\n',\n",
       " 'this is line 105\\n',\n",
       " 'this is line 106\\n',\n",
       " 'this is line 107\\n',\n",
       " 'this is line 108\\n',\n",
       " 'this is line 109\\n',\n",
       " 'this is line 110\\n',\n",
       " 'this is line 111\\n',\n",
       " 'this is line 112\\n',\n",
       " 'this is line 113\\n',\n",
       " 'this is line 114\\n',\n",
       " 'this is line 115\\n',\n",
       " 'this is line 116\\n',\n",
       " 'this is line 117\\n',\n",
       " 'this is line 118\\n',\n",
       " 'this is line 119\\n']"
      ]
     },
     "execution_count": 17,
     "metadata": {},
     "output_type": "execute_result"
    }
   ],
   "source": [
    "j = open('temp.json', 'r')\n",
    "x = json.load(j)\n",
    "x"
   ]
  },
  {
   "cell_type": "markdown",
   "metadata": {},
   "source": [
    "### Working with CSV Files\n",
    "\n",
    "CSV (Comma Separated Values) is probably the most common format of data you will encounter.  Files in this format are often exported in this format from a database table or from Excel, or just used as a simple, standard text (ASCII) file format for ease of use.\n",
    "\n",
    "Let's begin by writing a CSV file like the JSON example above, by importing the csv module, and writing a file with several columns, separated by commas."
   ]
  },
  {
   "cell_type": "code",
   "execution_count": 18,
   "metadata": {},
   "outputs": [
    {
     "data": {
      "text/plain": [
       "[[0, 0, 2],\n",
       " [1, 2, 3],\n",
       " [2, 4, 4],\n",
       " [3, 6, 5],\n",
       " [4, 8, 6],\n",
       " [5, 10, 7],\n",
       " [6, 12, 8],\n",
       " [7, 14, 9],\n",
       " [8, 16, 10],\n",
       " [9, 18, 11]]"
      ]
     },
     "execution_count": 18,
     "metadata": {},
     "output_type": "execute_result"
    }
   ],
   "source": [
    "my_data = []\n",
    "for i in range(10):\n",
    "    my_data.append([i, i*2, i+2])\n",
    "my_data"
   ]
  },
  {
   "cell_type": "markdown",
   "metadata": {},
   "source": [
    "Now we will write the CSV file using my_data, and adding a header row first with column names.  Note that we open the file as before, in write mode, but now use the writerow() method to write one row with the header, and writerows() to iterate over the rows and write them to the file."
   ]
  },
  {
   "cell_type": "code",
   "execution_count": 19,
   "metadata": {},
   "outputs": [],
   "source": [
    "import csv\n",
    "with open('my_data.csv', 'w', newline='') as f:\n",
    "    writer = csv.writer(f)\n",
    "    writer.writerow([\"x\", \"y\", \"z\"])\n",
    "    writer.writerows(my_data)"
   ]
  },
  {
   "cell_type": "markdown",
   "metadata": {},
   "source": [
    "Reading a CSV file is very similar to writing one, but simpler.  We create a reader object that is iterable, and then we can iterate over the rows and do things, like print each row."
   ]
  },
  {
   "cell_type": "code",
   "execution_count": 18,
   "metadata": {},
   "outputs": [
    {
     "name": "stdout",
     "output_type": "stream",
     "text": [
      "['x', 'y', 'z']\n",
      "['0', '0', '2']\n",
      "['1', '2', '3']\n",
      "['2', '4', '4']\n",
      "['3', '6', '5']\n",
      "['4', '8', '6']\n",
      "['5', '10', '7']\n",
      "['6', '12', '8']\n",
      "['7', '14', '9']\n",
      "['8', '16', '10']\n",
      "['9', '18', '11']\n"
     ]
    }
   ],
   "source": [
    "with open('my_data.csv', newline='') as f:\n",
    "    reader = csv.reader(f)\n",
    "    for row in reader:\n",
    "        print(row)"
   ]
  },
  {
   "cell_type": "markdown",
   "metadata": {},
   "source": [
    "If we want to actually work with the data, then we need to assign it to an object rather than just printing it.  Here we can use the list method to convert the iterable reader object to a list, one per row."
   ]
  },
  {
   "cell_type": "code",
   "execution_count": 19,
   "metadata": {},
   "outputs": [
    {
     "data": {
      "text/plain": [
       "[['x', 'y', 'z'],\n",
       " ['0', '0', '2'],\n",
       " ['1', '2', '3'],\n",
       " ['2', '4', '4'],\n",
       " ['3', '6', '5'],\n",
       " ['4', '8', '6'],\n",
       " ['5', '10', '7'],\n",
       " ['6', '12', '8'],\n",
       " ['7', '14', '9'],\n",
       " ['8', '16', '10'],\n",
       " ['9', '18', '11']]"
      ]
     },
     "execution_count": 19,
     "metadata": {},
     "output_type": "execute_result"
    }
   ],
   "source": [
    "with open('my_data.csv', newline='') as f:\n",
    "    reader = csv.reader(f)\n",
    "    my_data = list(reader)\n",
    "my_data"
   ]
  },
  {
   "cell_type": "markdown",
   "metadata": {},
   "source": [
    "If you want to skip the header row in order to have the data without the header, you can use **next** after instantiating the reader object, to advance one row in the CVS file."
   ]
  },
  {
   "cell_type": "code",
   "execution_count": 20,
   "metadata": {},
   "outputs": [
    {
     "data": {
      "text/plain": [
       "[['0', '0', '2'],\n",
       " ['1', '2', '3'],\n",
       " ['2', '4', '4'],\n",
       " ['3', '6', '5'],\n",
       " ['4', '8', '6'],\n",
       " ['5', '10', '7'],\n",
       " ['6', '12', '8'],\n",
       " ['7', '14', '9'],\n",
       " ['8', '16', '10'],\n",
       " ['9', '18', '11']]"
      ]
     },
     "execution_count": 20,
     "metadata": {},
     "output_type": "execute_result"
    }
   ],
   "source": [
    "with open('my_data.csv', newline='') as f:\n",
    "    reader = csv.reader(f)\n",
    "    next(reader)\n",
    "    my_data = list(reader)\n",
    "my_data"
   ]
  },
  {
   "cell_type": "markdown",
   "metadata": {},
   "source": [
    "Since the data is now available as an object, you can do normal Python processing on it, like selecting the first entry of each row and printing it."
   ]
  },
  {
   "cell_type": "code",
   "execution_count": 21,
   "metadata": {},
   "outputs": [
    {
     "name": "stdout",
     "output_type": "stream",
     "text": [
      "0\n",
      "1\n",
      "2\n",
      "3\n",
      "4\n",
      "5\n",
      "6\n",
      "7\n",
      "8\n",
      "9\n"
     ]
    }
   ],
   "source": [
    "for row in my_data:\n",
    "    print(row[0])"
   ]
  },
  {
   "cell_type": "markdown",
   "metadata": {},
   "source": [
    "### Reading a CSV File and Computing Statistics With it\n",
    "\n",
    "Use rain.csv to calculate mean and maximum values in a column"
   ]
  },
  {
   "cell_type": "code",
   "execution_count": 34,
   "metadata": {},
   "outputs": [
    {
     "name": "stdout",
     "output_type": "stream",
     "text": [
      "mean: 3.7 inches\n",
      "max: 5.9 inches\n"
     ]
    }
   ],
   "source": [
    "with open('C:/Users/A M Hasibul Islam/Documents/GitHub/ce599_clone/04-Data Files and Cleaning/Data/rain.csv', 'r') as csvfile:\n",
    "    \n",
    "    # initialize a counter and variables to contain our descriptive stats\n",
    "    count = 0 #at the end, divide cumulative_sum by this to get the mean\n",
    "    cumulative_sum = 0 #our rolling sum\n",
    "    max_value = -1 #pick a really small number that's guaranteed to be less than the max\n",
    "    \n",
    "    # open the file and skip the header row\n",
    "    my_csv = csv.reader(csvfile)\n",
    "    next(my_csv)\n",
    "    \n",
    "    # loop through each data row\n",
    "    for row in my_csv:\n",
    "        \n",
    "        # rainfall amount is in column 1, only process this row's value if not an empty string\n",
    "        if not row[1] == '':\n",
    "            \n",
    "            # increment the counter and extract this row's rainfall as a float\n",
    "            count = count + 1\n",
    "            rainfall = float(row[1])\n",
    "            \n",
    "            # add this row's rainfall to the cumulative sum\n",
    "            cumulative_sum = cumulative_sum + rainfall\n",
    "            \n",
    "            # if this row's rainfall is greater than the current max value, update with the new max\n",
    "            if rainfall > max_value:\n",
    "                max_value = rainfall\n",
    "\n",
    "    # after looping through all the rows, divide the cumulative sum by the count and round to get the mean\n",
    "    mean_value = round(cumulative_sum / count, 1)\n",
    "    \n",
    "    # print out the mean and max values\n",
    "    print('mean:', mean_value, 'inches')\n",
    "    print('max:', max_value, 'inches')"
   ]
  },
  {
   "cell_type": "markdown",
   "metadata": {},
   "source": [
    "How would you find the minimum rainfall amount?"
   ]
  },
  {
   "cell_type": "markdown",
   "metadata": {},
   "source": [
    "### Cleaning up Messy Data"
   ]
  },
  {
   "cell_type": "markdown",
   "metadata": {},
   "source": [
    "Let's look at another data file - one that contains a few Craigslist rental listings, that we have already done some cleanup on."
   ]
  },
  {
   "cell_type": "code",
   "execution_count": 36,
   "metadata": {},
   "outputs": [
    {
     "name": "stdout",
     "output_type": "stream",
     "text": [
      "['month_2014', 'rainfall_inches']\n",
      "['jan', '5.3']\n",
      "['feb', '5.4']\n",
      "['mar', '4.8']\n",
      "['apr', '4.7']\n",
      "['may', '3.3']\n",
      "['jun', '1.2']\n",
      "['jul', '0.8']\n",
      "['aug', '0.7']\n",
      "['sep', '']\n",
      "['oct', '3.9']\n",
      "['nov', '4.5']\n",
      "['dec', '5.9']\n"
     ]
    }
   ],
   "source": [
    "with open('C:/Users/A M Hasibul Islam/Documents/GitHub/ce599_clone/04-Data Files and Cleaning/Data/rain.csv', 'r') as csvfile:\n",
    "    my_csv = csv.reader(csvfile)\n",
    "    for row in my_csv:\n",
    "        print(row)"
   ]
  },
  {
   "cell_type": "code",
   "execution_count": 37,
   "metadata": {},
   "outputs": [
    {
     "name": "stdout",
     "output_type": "stream",
     "text": [
      "['month_2014', 'rainfall_inches']\n"
     ]
    }
   ],
   "source": [
    "# the column headers are the first row in the data file\n",
    "# use next to iterate our csv reader to the first row to grab the headers\n",
    "with open('C:/Users/A M Hasibul Islam/Documents/GitHub/ce599_clone/04-Data Files and Cleaning/Data/rain.csv', 'r') as csvfile:\n",
    "    my_csv = csv.reader(csvfile)\n",
    "    headers = next(my_csv)\n",
    "    print(headers)"
   ]
  },
  {
   "cell_type": "code",
   "execution_count": 38,
   "metadata": {},
   "outputs": [
    {
     "data": {
      "text/plain": [
       "'rainfall_inches'"
      ]
     },
     "execution_count": 38,
     "metadata": {},
     "output_type": "execute_result"
    }
   ],
   "source": [
    "# what is the 1st column (zero-indexed) in our data set?\n",
    "headers[1]"
   ]
  },
  {
   "cell_type": "code",
   "execution_count": 39,
   "metadata": {},
   "outputs": [
    {
     "name": "stdout",
     "output_type": "stream",
     "text": [
      "rainfall_inches\n",
      "5.3\n",
      "5.4\n",
      "4.8\n",
      "4.7\n",
      "3.3\n",
      "1.2\n",
      "0.8\n",
      "0.7\n",
      "\n",
      "3.9\n",
      "4.5\n",
      "5.9\n"
     ]
    }
   ],
   "source": [
    "# for each row in the data set, print the price column's value\n",
    "with open('C:/Users/A M Hasibul Islam/Documents/GitHub/ce599_clone/04-Data Files and Cleaning/Data/rain.csv', 'r') as csvfile:\n",
    "    my_csv = csv.reader(csvfile)\n",
    "    for row in my_csv:\n",
    "        print(row[1])"
   ]
  },
  {
   "cell_type": "code",
   "execution_count": 40,
   "metadata": {},
   "outputs": [
    {
     "data": {
      "text/plain": [
       "['rainfall_inches',\n",
       " '5.3',\n",
       " '5.4',\n",
       " '4.8',\n",
       " '4.7',\n",
       " '3.3',\n",
       " '1.2',\n",
       " '0.8',\n",
       " '0.7',\n",
       " '',\n",
       " '3.9',\n",
       " '4.5',\n",
       " '5.9']"
      ]
     },
     "execution_count": 40,
     "metadata": {},
     "output_type": "execute_result"
    }
   ],
   "source": [
    "# create a new list to contain the column of prices in the data set\n",
    "prices = []\n",
    "with open('C:/Users/A M Hasibul Islam/Documents/GitHub/ce599_clone/04-Data Files and Cleaning/Data/rain.csv', 'r') as csvfile:\n",
    "    my_csv = csv.reader(csvfile)\n",
    "    for row in my_csv:\n",
    "        prices.append(row[1])  \n",
    "prices"
   ]
  },
  {
   "cell_type": "markdown",
   "metadata": {},
   "source": [
    "This list has a couple of problems. First, it includes the header. Second, it's all strings even though prices are numeric data. Third, it contains some empty strings. We'll have to clean it up."
   ]
  },
  {
   "cell_type": "code",
   "execution_count": 41,
   "metadata": {},
   "outputs": [
    {
     "data": {
      "text/plain": [
       "['5.3',\n",
       " '5.4',\n",
       " '4.8',\n",
       " '4.7',\n",
       " '3.3',\n",
       " '1.2',\n",
       " '0.8',\n",
       " '0.7',\n",
       " '',\n",
       " '3.9',\n",
       " '4.5',\n",
       " '5.9']"
      ]
     },
     "execution_count": 41,
     "metadata": {},
     "output_type": "execute_result"
    }
   ],
   "source": [
    "# to remove the first element of the list, we can just capture position 1 through the end of the list\n",
    "prices_noheader = prices[1:]\n",
    "prices_noheader"
   ]
  },
  {
   "cell_type": "code",
   "execution_count": 42,
   "metadata": {},
   "outputs": [
    {
     "name": "stdout",
     "output_type": "stream",
     "text": [
      "5  \n",
      "5  \n",
      "4  \n",
      "4  \n",
      "3  \n",
      "1  \n",
      "0  \n",
      "0  \n"
     ]
    },
    {
     "ename": "ValueError",
     "evalue": "could not convert string to float: ",
     "output_type": "error",
     "traceback": [
      "\u001b[1;31m---------------------------------------------------------------------------\u001b[0m",
      "\u001b[1;31mValueError\u001b[0m                                Traceback (most recent call last)",
      "\u001b[1;32m<ipython-input-42-372769648ad3>\u001b[0m in \u001b[0;36m<module>\u001b[1;34m\u001b[0m\n\u001b[0;32m      1\u001b[0m \u001b[1;31m# now let's convert the price strings to integers\u001b[0m\u001b[1;33m\u001b[0m\u001b[1;33m\u001b[0m\u001b[1;33m\u001b[0m\u001b[0m\n\u001b[0;32m      2\u001b[0m \u001b[1;32mfor\u001b[0m \u001b[0mprice\u001b[0m \u001b[1;32min\u001b[0m \u001b[0mprices_noheader\u001b[0m\u001b[1;33m:\u001b[0m\u001b[1;33m\u001b[0m\u001b[1;33m\u001b[0m\u001b[0m\n\u001b[1;32m----> 3\u001b[1;33m     \u001b[0mprint\u001b[0m\u001b[1;33m(\u001b[0m\u001b[0mint\u001b[0m\u001b[1;33m(\u001b[0m\u001b[0mfloat\u001b[0m\u001b[1;33m(\u001b[0m\u001b[0mprice\u001b[0m\u001b[1;33m)\u001b[0m\u001b[1;33m)\u001b[0m\u001b[1;33m,\u001b[0m \u001b[1;34m' '\u001b[0m\u001b[1;33m)\u001b[0m\u001b[1;33m\u001b[0m\u001b[1;33m\u001b[0m\u001b[0m\n\u001b[0m",
      "\u001b[1;31mValueError\u001b[0m: could not convert string to float: "
     ]
    }
   ],
   "source": [
    "# now let's convert the price strings to integers\n",
    "for price in prices_noheader:\n",
    "    print(int(float(price)), ' ')"
   ]
  },
  {
   "cell_type": "code",
   "execution_count": 43,
   "metadata": {},
   "outputs": [
    {
     "name": "stdout",
     "output_type": "stream",
     "text": [
      "5\n",
      "5\n",
      "4\n",
      "4\n",
      "3\n",
      "1\n",
      "0\n",
      "0\n",
      "None\n",
      "3\n",
      "4\n",
      "5\n"
     ]
    }
   ],
   "source": [
    "# you can't convert an empty string to a numeric type\n",
    "for price in prices_noheader:\n",
    "    if not price == '':\n",
    "        print(int(float(price)))\n",
    "    else:\n",
    "        print('None')"
   ]
  },
  {
   "cell_type": "code",
   "execution_count": 44,
   "metadata": {},
   "outputs": [],
   "source": [
    "# encapsulate this functionality inside a new function\n",
    "def extract_int_price(price):\n",
    "    if not price == '':\n",
    "        return int(float(price))\n",
    "    else:\n",
    "        return None"
   ]
  },
  {
   "cell_type": "code",
   "execution_count": 45,
   "metadata": {},
   "outputs": [
    {
     "name": "stdout",
     "output_type": "stream",
     "text": [
      "5\n",
      "5\n",
      "4\n",
      "4\n",
      "3\n",
      "1\n",
      "0\n",
      "0\n",
      "None\n",
      "3\n",
      "4\n",
      "5\n"
     ]
    }
   ],
   "source": [
    "# use our function to convert each element in the list of prices to an integer\n",
    "for price in prices_noheader:\n",
    "    print(extract_int_price(price))"
   ]
  },
  {
   "cell_type": "code",
   "execution_count": 46,
   "metadata": {},
   "outputs": [
    {
     "name": "stdout",
     "output_type": "stream",
     "text": [
      "[5, 5, 4, 4, 3, 1, 0, 0, None, 3, 4, 5]\n"
     ]
    }
   ],
   "source": [
    "# rather than just printing each converted value, turn it into a new list called int_prices\n",
    "int_prices = []\n",
    "for price in prices_noheader:\n",
    "    int_prices.append(extract_int_price(price))\n",
    "print(int_prices)"
   ]
  },
  {
   "cell_type": "markdown",
   "metadata": {},
   "source": [
    "### Now let's clean up our neighborhood names\n"
   ]
  },
  {
   "cell_type": "code",
   "execution_count": 49,
   "metadata": {},
   "outputs": [
    {
     "name": "stdout",
     "output_type": "stream",
     "text": [
      "jan\n",
      "feb\n",
      "mar\n",
      "apr\n",
      "may\n",
      "jun\n",
      "jul\n",
      "aug\n",
      "sep\n",
      "oct\n",
      "nov\n",
      "dec\n"
     ]
    }
   ],
   "source": [
    "# replace any forward slashes in neighborhood name with a hyphen\n",
    "with open('C:/Users/A M Hasibul Islam/Documents/GitHub/ce599_clone/04-Data Files and Cleaning/Data/rain.csv', 'r') as csvfile:\n",
    "    my_csv = csv.reader(csvfile)\n",
    "    next(my_csv) #skip the header row\n",
    "    for row in my_csv:\n",
    "        print(row[0].replace('/', '-')) #use string.replace() method"
   ]
  },
  {
   "cell_type": "markdown",
   "metadata": {},
   "source": [
    "### Create a new data set with cleaned up variables"
   ]
  },
  {
   "cell_type": "code",
   "execution_count": 20,
   "metadata": {},
   "outputs": [],
   "source": [
    "# create a new function to convert bedrooms from a string to an int\n",
    "def extract_int_bedrooms(bedrooms):\n",
    "    if not bedrooms == '':\n",
    "        return int(float(bedrooms))\n",
    "    else:\n",
    "        return None"
   ]
  },
  {
   "cell_type": "code",
   "execution_count": 21,
   "metadata": {},
   "outputs": [],
   "source": [
    "# create a new function to replace forward slashes and commas with hyphens\n",
    "def clean_neighborhood(neighborhood_name):\n",
    "    # you can daisy chain multiple string.replace() methods\n",
    "    return neighborhood_name.replace('/', '-').replace(',', '')"
   ]
  },
  {
   "cell_type": "code",
   "execution_count": 22,
   "metadata": {},
   "outputs": [
    {
     "ename": "NameError",
     "evalue": "name 'extract_int_price' is not defined",
     "output_type": "error",
     "traceback": [
      "\u001b[1;31m---------------------------------------------------------------------------\u001b[0m",
      "\u001b[1;31mNameError\u001b[0m                                 Traceback (most recent call last)",
      "\u001b[1;32m<ipython-input-22-cd30d7fb6bcf>\u001b[0m in \u001b[0;36m<module>\u001b[1;34m\u001b[0m\n\u001b[0;32m      6\u001b[0m     \u001b[1;32mfor\u001b[0m \u001b[0mrow\u001b[0m \u001b[1;32min\u001b[0m \u001b[0mmy_csv\u001b[0m\u001b[1;33m:\u001b[0m\u001b[1;33m\u001b[0m\u001b[1;33m\u001b[0m\u001b[0m\n\u001b[0;32m      7\u001b[0m         \u001b[0mneighborhood_cleaned\u001b[0m \u001b[1;33m=\u001b[0m \u001b[0mclean_neighborhood\u001b[0m\u001b[1;33m(\u001b[0m\u001b[0mrow\u001b[0m\u001b[1;33m[\u001b[0m\u001b[1;36m0\u001b[0m\u001b[1;33m]\u001b[0m\u001b[1;33m)\u001b[0m\u001b[1;33m\u001b[0m\u001b[1;33m\u001b[0m\u001b[0m\n\u001b[1;32m----> 8\u001b[1;33m         \u001b[0mprice_cleaned\u001b[0m \u001b[1;33m=\u001b[0m \u001b[0mextract_int_price\u001b[0m\u001b[1;33m(\u001b[0m\u001b[0mrow\u001b[0m\u001b[1;33m[\u001b[0m\u001b[1;36m1\u001b[0m\u001b[1;33m]\u001b[0m\u001b[1;33m)\u001b[0m\u001b[1;33m\u001b[0m\u001b[1;33m\u001b[0m\u001b[0m\n\u001b[0m\u001b[0;32m      9\u001b[0m         \u001b[0mbedrooms_cleaned\u001b[0m \u001b[1;33m=\u001b[0m \u001b[0mextract_int_bedrooms\u001b[0m\u001b[1;33m(\u001b[0m\u001b[0mrow\u001b[0m\u001b[1;33m[\u001b[0m\u001b[1;36m2\u001b[0m\u001b[1;33m]\u001b[0m\u001b[1;33m)\u001b[0m\u001b[1;33m\u001b[0m\u001b[1;33m\u001b[0m\u001b[0m\n\u001b[0;32m     10\u001b[0m         \u001b[0mrentals_cleaned\u001b[0m\u001b[1;33m.\u001b[0m\u001b[0mappend\u001b[0m\u001b[1;33m(\u001b[0m\u001b[1;33m[\u001b[0m\u001b[0mneighborhood_cleaned\u001b[0m\u001b[1;33m,\u001b[0m \u001b[0mprice_cleaned\u001b[0m\u001b[1;33m,\u001b[0m \u001b[0mbedrooms_cleaned\u001b[0m\u001b[1;33m]\u001b[0m\u001b[1;33m)\u001b[0m\u001b[1;33m\u001b[0m\u001b[1;33m\u001b[0m\u001b[0m\n",
      "\u001b[1;31mNameError\u001b[0m: name 'extract_int_price' is not defined"
     ]
    }
   ],
   "source": [
    "# clean the data set by calling the cleaning functions and save the results to variables\n",
    "rentals_cleaned = []\n",
    "with open('C:/Users/A M Hasibul Islam/Documents/GitHub/ce599_clone/04-Data Files and Cleaning/Data/rain.csv', 'r') as csvfile:\n",
    "    my_csv = csv.reader(csvfile)\n",
    "    next(my_csv)\n",
    "    for row in my_csv:\n",
    "        neighborhood_cleaned = clean_neighborhood(row[0])\n",
    "        price_cleaned = extract_int_price(row[1])\n",
    "        bedrooms_cleaned = extract_int_bedrooms(row[2])\n",
    "        rentals_cleaned.append([neighborhood_cleaned, price_cleaned, bedrooms_cleaned])      \n",
    "\n",
    "# display our nested lists of data        \n",
    "rentals_cleaned"
   ]
  },
  {
   "cell_type": "markdown",
   "metadata": {},
   "source": [
    "# Exercise: \n",
    "\n",
    "1. Calculate the price per square foot, and write the result to a new file.  \n",
    "2. Calculate the average price per square foot. \n",
    "3. Explain how you have dealt with missing data in 1 and 2, and how that might affect your result. "
   ]
  },
  {
   "cell_type": "code",
   "execution_count": 33,
   "metadata": {},
   "outputs": [
    {
     "data": {
      "text/plain": [
       "['price',\n",
       " '2495',\n",
       " '2695',\n",
       " '3150',\n",
       " '2800',\n",
       " '2196',\n",
       " '3264',\n",
       " '2000',\n",
       " '4740',\n",
       " '3395',\n",
       " '2699',\n",
       " '3620',\n",
       " '2025',\n",
       " '',\n",
       " '1795',\n",
       " '4299']"
      ]
     },
     "execution_count": 33,
     "metadata": {},
     "output_type": "execute_result"
    }
   ],
   "source": [
    "# create a new list to contain the column of prices in the data set\n",
    "prices = []\n",
    "with open('C:/Users/A M Hasibul Islam/Documents/GitHub/ce599_clone/04-Data Files and Cleaning/Data/rents_raw.csv', 'r') as csvfile:\n",
    "    my_csv = csv.reader(csvfile)\n",
    "    for row in my_csv:\n",
    "        prices.append(row[1])  \n",
    "prices"
   ]
  },
  {
   "cell_type": "code",
   "execution_count": 53,
   "metadata": {},
   "outputs": [
    {
     "data": {
      "text/plain": [
       "['5.3',\n",
       " '5.4',\n",
       " '4.8',\n",
       " '4.7',\n",
       " '3.3',\n",
       " '1.2',\n",
       " '0.8',\n",
       " '0.7',\n",
       " '',\n",
       " '3.9',\n",
       " '4.5',\n",
       " '5.9']"
      ]
     },
     "execution_count": 53,
     "metadata": {},
     "output_type": "execute_result"
    }
   ],
   "source": [
    "# to remove the first element of the list, we can just capture position 1 through the end of the list\n",
    "prices_noheader = prices[1:]\n",
    "prices_noheader"
   ]
  },
  {
   "cell_type": "code",
   "execution_count": 54,
   "metadata": {},
   "outputs": [],
   "source": [
    "# encapsulate this functionality inside a new function\n",
    "def extract_int_price(price):\n",
    "    if not price == '':\n",
    "        return int(float(price))\n",
    "    else:\n",
    "        return None"
   ]
  },
  {
   "cell_type": "code",
   "execution_count": 55,
   "metadata": {},
   "outputs": [
    {
     "name": "stdout",
     "output_type": "stream",
     "text": [
      "5\n",
      "5\n",
      "4\n",
      "4\n",
      "3\n",
      "1\n",
      "0\n",
      "0\n",
      "None\n",
      "3\n",
      "4\n",
      "5\n"
     ]
    }
   ],
   "source": [
    "for price in prices_noheader:\n",
    "    print(extract_int_price(price))"
   ]
  },
  {
   "cell_type": "code",
   "execution_count": 56,
   "metadata": {},
   "outputs": [
    {
     "data": {
      "text/plain": [
       "['sqft',\n",
       " '755',\n",
       " '443',\n",
       " '1242',\n",
       " '',\n",
       " '676',\n",
       " '1138',\n",
       " '822',\n",
       " '1406',\n",
       " '',\n",
       " '',\n",
       " '860',\n",
       " '636',\n",
       " '1019',\n",
       " '715',\n",
       " '1533']"
      ]
     },
     "execution_count": 56,
     "metadata": {},
     "output_type": "execute_result"
    }
   ],
   "source": [
    "# create a new list to contain the column of prices in the data set\n",
    "sqft = []\n",
    "with open('C:/Users/A M Hasibul Islam/Documents/GitHub/ce599_clone/04-Data Files and Cleaning/Data/rents_raw.csv', 'r') as csvfile:\n",
    "    my_csv = csv.reader(csvfile)\n",
    "    for row in my_csv:\n",
    "        sqft.append(row[4])  \n",
    "sqft"
   ]
  },
  {
   "cell_type": "code",
   "execution_count": 57,
   "metadata": {},
   "outputs": [
    {
     "data": {
      "text/plain": [
       "['755',\n",
       " '443',\n",
       " '1242',\n",
       " '',\n",
       " '676',\n",
       " '1138',\n",
       " '822',\n",
       " '1406',\n",
       " '',\n",
       " '',\n",
       " '860',\n",
       " '636',\n",
       " '1019',\n",
       " '715',\n",
       " '1533']"
      ]
     },
     "execution_count": 57,
     "metadata": {},
     "output_type": "execute_result"
    }
   ],
   "source": [
    "# to remove the first element of the list, we can just capture position 1 through the end of the list\n",
    "sqft_noheader = sqft[1:]\n",
    "sqft_noheader"
   ]
  },
  {
   "cell_type": "code",
   "execution_count": 58,
   "metadata": {},
   "outputs": [
    {
     "name": "stdout",
     "output_type": "stream",
     "text": [
      "755\n",
      "443\n",
      "1242\n",
      "None\n",
      "676\n",
      "1138\n",
      "822\n",
      "1406\n",
      "None\n",
      "None\n",
      "860\n",
      "636\n",
      "1019\n",
      "715\n",
      "1533\n"
     ]
    }
   ],
   "source": [
    "# you can't convert an empty string to a numeric type\n",
    "for sqft in sqft_noheader:\n",
    "    if not sqft == '':\n",
    "        print(int(float(sqft)))\n",
    "    else:\n",
    "        print('None')"
   ]
  },
  {
   "cell_type": "code",
   "execution_count": 59,
   "metadata": {},
   "outputs": [],
   "source": [
    "# encapsulate this functionality inside a new function\n",
    "def extract_int_sqft(sqft):\n",
    "    if not sqft == '':\n",
    "        return int(float(sqft))\n",
    "    else:\n",
    "        return None"
   ]
  },
  {
   "cell_type": "code",
   "execution_count": 60,
   "metadata": {},
   "outputs": [
    {
     "name": "stdout",
     "output_type": "stream",
     "text": [
      "755\n",
      "443\n",
      "1242\n",
      "None\n",
      "676\n",
      "1138\n",
      "822\n",
      "1406\n",
      "None\n",
      "None\n",
      "860\n",
      "636\n",
      "1019\n",
      "715\n",
      "1533\n"
     ]
    }
   ],
   "source": [
    "for sqft in sqft_noheader:\n",
    "    print(extract_int_sqft(sqft))"
   ]
  },
  {
   "cell_type": "code",
   "execution_count": 61,
   "metadata": {},
   "outputs": [
    {
     "name": "stdout",
     "output_type": "stream",
     "text": [
      "[755, 443, 1242, None, 676, 1138, 822, 1406, None, None, 860, 636, 1019, 715, 1533]\n",
      "[5, 5, 4, 4, 3, 1, 0, 0, None, 3, 4, 5]\n"
     ]
    }
   ],
   "source": [
    "# instead of just printing each converted value, turn it into a new list called int_prices\n",
    "int_sqft = []\n",
    "for sqft in sqft_noheader:\n",
    "    int_sqft.append(extract_int_sqft(sqft))\n",
    "print(int_sqft)\n",
    "print(int_prices)"
   ]
  },
  {
   "cell_type": "code",
   "execution_count": 62,
   "metadata": {},
   "outputs": [
    {
     "name": "stdout",
     "output_type": "stream",
     "text": [
      "755 5\n",
      "443 5\n",
      "1242 4\n",
      "None 4\n",
      "676 3\n",
      "1138 1\n",
      "822 0\n",
      "1406 0\n",
      "None None\n",
      "None 3\n",
      "860 4\n",
      "636 5\n"
     ]
    }
   ],
   "source": [
    "for x, y in zip(int_sqft, int_prices):\n",
    "        xy=[[int_sqft,int_prices]]\n",
    "        print (x, y)"
   ]
  },
  {
   "cell_type": "code",
   "execution_count": 63,
   "metadata": {},
   "outputs": [
    {
     "name": "stdout",
     "output_type": "stream",
     "text": [
      "755 5\n",
      "443 5\n",
      "1242 4\n",
      "676 3\n",
      "1138 1\n",
      "822 0\n",
      "1406 0\n",
      "860 4\n",
      "636 5\n"
     ]
    }
   ],
   "source": [
    "for x, y in zip(int_sqft, int_prices):\n",
    "    if (x is not None) and (y is not None):\n",
    "        xy=[[int_sqft,int_prices]]\n",
    "        print (x, y)"
   ]
  },
  {
   "cell_type": "code",
   "execution_count": 65,
   "metadata": {},
   "outputs": [
    {
     "name": "stdout",
     "output_type": "stream",
     "text": [
      "0.006622516556291391\n",
      "0.011286681715575621\n",
      "0.00322061191626409\n"
     ]
    },
    {
     "ename": "TypeError",
     "evalue": "unsupported operand type(s) for /: 'int' and 'NoneType'",
     "output_type": "error",
     "traceback": [
      "\u001b[1;31m---------------------------------------------------------------------------\u001b[0m",
      "\u001b[1;31mTypeError\u001b[0m                                 Traceback (most recent call last)",
      "\u001b[1;32m<ipython-input-65-97b87d25545d>\u001b[0m in \u001b[0;36m<module>\u001b[1;34m\u001b[0m\n\u001b[0;32m      4\u001b[0m \u001b[0mk\u001b[0m \u001b[1;33m=\u001b[0m \u001b[1;36m0\u001b[0m\u001b[1;33m\u001b[0m\u001b[1;33m\u001b[0m\u001b[0m\n\u001b[0;32m      5\u001b[0m \u001b[1;32mwhile\u001b[0m \u001b[1;33m(\u001b[0m\u001b[0mi\u001b[0m\u001b[1;33m<\u001b[0m\u001b[1;36m11\u001b[0m \u001b[1;32mand\u001b[0m \u001b[0mj\u001b[0m\u001b[1;33m<\u001b[0m\u001b[1;36m11\u001b[0m\u001b[1;33m)\u001b[0m\u001b[1;33m:\u001b[0m\u001b[1;33m\u001b[0m\u001b[1;33m\u001b[0m\u001b[0m\n\u001b[1;32m----> 6\u001b[1;33m         \u001b[0mprint\u001b[0m\u001b[1;33m(\u001b[0m\u001b[0mint_prices\u001b[0m\u001b[1;33m[\u001b[0m\u001b[0mi\u001b[0m\u001b[1;33m]\u001b[0m\u001b[1;33m/\u001b[0m\u001b[0mint_sqft\u001b[0m\u001b[1;33m[\u001b[0m\u001b[0mj\u001b[0m\u001b[1;33m]\u001b[0m\u001b[1;33m)\u001b[0m\u001b[1;33m\u001b[0m\u001b[1;33m\u001b[0m\u001b[0m\n\u001b[0m\u001b[0;32m      7\u001b[0m         \u001b[0mppsqft\u001b[0m \u001b[1;33m[\u001b[0m\u001b[0mi\u001b[0m\u001b[1;33m]\u001b[0m\u001b[1;33m=\u001b[0m\u001b[0mint_prices\u001b[0m\u001b[1;33m[\u001b[0m\u001b[0mi\u001b[0m\u001b[1;33m]\u001b[0m\u001b[1;33m/\u001b[0m\u001b[0mint_sqft\u001b[0m\u001b[1;33m[\u001b[0m\u001b[0mj\u001b[0m\u001b[1;33m]\u001b[0m\u001b[1;33m\u001b[0m\u001b[1;33m\u001b[0m\u001b[0m\n\u001b[0;32m      8\u001b[0m         \u001b[0mi\u001b[0m \u001b[1;33m=\u001b[0m \u001b[0mi\u001b[0m\u001b[1;33m+\u001b[0m\u001b[1;36m1\u001b[0m\u001b[1;33m\u001b[0m\u001b[1;33m\u001b[0m\u001b[0m\n",
      "\u001b[1;31mTypeError\u001b[0m: unsupported operand type(s) for /: 'int' and 'NoneType'"
     ]
    }
   ],
   "source": [
    "ppsqft = {}\n",
    "i = 0\n",
    "j = 0\n",
    "k = 0\n",
    "while (i<11 and j<11):\n",
    "        print(int_prices[i]/int_sqft[j])\n",
    "        ppsqft [i]=int_prices[i]/int_sqft[j]\n",
    "        i = i+1\n",
    "        j = j+1"
   ]
  },
  {
   "cell_type": "code",
   "execution_count": 66,
   "metadata": {},
   "outputs": [
    {
     "data": {
      "text/plain": [
       "dict_values([0.006622516556291391, 0.011286681715575621, 0.00322061191626409])"
      ]
     },
     "execution_count": 66,
     "metadata": {},
     "output_type": "execute_result"
    }
   ],
   "source": [
    "ppsqft.values()"
   ]
  },
  {
   "cell_type": "code",
   "execution_count": 67,
   "metadata": {},
   "outputs": [
    {
     "data": {
      "text/plain": [
       "0.007043270062710368"
      ]
     },
     "execution_count": 67,
     "metadata": {},
     "output_type": "execute_result"
    }
   ],
   "source": [
    "ppsqft_sum=sum(ppsqft.values())\n",
    "ppsqft_total=len(ppsqft.values())\n",
    "ppsqft_mean=ppsqft_sum/ppsqft_total\n",
    "ppsqft_mean"
   ]
  },
  {
   "cell_type": "code",
   "execution_count": null,
   "metadata": {},
   "outputs": [],
   "source": []
  }
 ],
 "metadata": {
  "anaconda-cloud": {},
  "kernelspec": {
   "display_name": "Python 3",
   "language": "python",
   "name": "python3"
  },
  "language_info": {
   "codemirror_mode": {
    "name": "ipython",
    "version": 3
   },
   "file_extension": ".py",
   "mimetype": "text/x-python",
   "name": "python",
   "nbconvert_exporter": "python",
   "pygments_lexer": "ipython3",
   "version": "3.7.1"
  }
 },
 "nbformat": 4,
 "nbformat_minor": 1
}
